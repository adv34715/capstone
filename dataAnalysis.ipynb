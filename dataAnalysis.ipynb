{
 "cells": [
  {
   "cell_type": "code",
   "execution_count": 7,
   "metadata": {
    "collapsed": true
   },
   "outputs": [],
   "source": [
    "import pandas as pd\n",
    "import glob\n",
    "import fnmatch"
   ]
  },
  {
   "cell_type": "code",
   "execution_count": 13,
   "metadata": {
    "collapsed": false
   },
   "outputs": [
    {
     "name": "stdout",
     "output_type": "stream",
     "text": [
      "data/course_article.csv\n",
      "data/course_article_questions.csv\n",
      "data/course_classroom.csv\n",
      "data/course_course.csv\n",
      "data/course_course_units.csv\n",
      "data/course_match.csv\n",
      "data/course_match_student_match.csv\n",
      "data/course_progress.csv\n",
      "data/course_question.csv\n",
      "data/course_questionresponse.csv\n",
      "data/course_questionresponse_new_response.csv\n",
      "data/course_questionresponse_new_subresponse.csv\n",
      "data/course_resource.csv\n",
      "data/course_subquestionresponse.csv\n",
      "data/course_unit.csv\n",
      "data/course_unit_articles.csv\n",
      "data/course_unit_resources.csv\n",
      "data/course_video.csv\n",
      "data/user_app_address.csv\n",
      "data/user_app_customuser.csv\n",
      "data/user_app_customuser_user_permissions.csv\n",
      "data/user_messages_message.csv\n",
      "data/user_messages_room.csv\n",
      "data/user_messages_room_new_message.csv\n",
      "data/user_messages_room_subscribers.csv\n"
     ]
    }
   ],
   "source": [
    "#filePath = ('data/course_*','data/user_*')\n",
    "files = []\n",
    "#for fp in filePath:\n",
    "for filename in glob.glob('data/*.csv'):\n",
    "    print filename\n",
    "    files.append(filename)   "
   ]
  },
  {
   "cell_type": "code",
   "execution_count": 23,
   "metadata": {
    "collapsed": false
   },
   "outputs": [
    {
     "name": "stdout",
     "output_type": "stream",
     "text": [
      "('instances:', 55)\n"
     ]
    }
   ],
   "source": [
    "import os\n",
    "data = []\n",
    "slice_index = [] #to store where the file ends, for example, the first file,democratic file,\n",
    "                            # is form 0 to 1807, so slick_index[0]=1808 \n",
    "\n",
    "fin = open(\"data/course_article.csv\",'rU')\n",
    "raw = fin.readlines()\n",
    "    #print (len(raw),type(raw))\n",
    "for line in raw:\n",
    "    data.append(line)\n",
    "slice_index.append(len(data))\n",
    "fin.close()\n",
    "print('instances:',len(data))"
   ]
  },
  {
   "cell_type": "code",
   "execution_count": 49,
   "metadata": {
    "collapsed": false
   },
   "outputs": [],
   "source": [
    "for l in data:\n",
    "    data[] = l.replace('span',' ')\n",
    "    "
   ]
  },
  {
   "cell_type": "code",
   "execution_count": 60,
   "metadata": {
    "collapsed": false
   },
   "outputs": [
    {
     "name": "stdout",
     "output_type": "stream",
     "text": [
      "308\tThe Great Barrier Reef Is Under Attack\t<span id=\"docs-internal-guid-93250290-6b09-ebfc-b7bf-e4e068573e07\"><p dir=\"ltr\" style=\"line-height:1.38;margin-top:0pt;margin-bottom:0pt;\"><span style=\"font-size: 24px; font-family: Arial; font-style: italic; vertical-align: baseline; white-space: pre-wrap; background-color: transparent;\">Warm water temperatures have bleached coral off the Australian coast.</span></p><br><p dir=\"ltr\" style=\"line-height:1.38;margin-top:0pt;margin-bottom:0pt;\"><span style=\"font-size: 18.6667px; font-family: Arial; color: rgb(102, 102, 102); vertical-align: baseline; white-space: pre-wrap; background-color: transparent;\">By Justin Worland for TIME, adapted by TFK editors </span></p><p dir=\"ltr\" style=\"line-height:1.38;margin-top:0pt;margin-bottom:0pt;\"><span style=\"font-size: 18.6667px; font-family: Arial; color: rgb(102, 102, 102); vertical-align: baseline; white-space: pre-wrap; background-color: transparent;\">April 25, 2016</span></p><br><p dir=\"ltr\" style=\"line-height:1.38;margin-top:0pt;margin-bottom:0pt;\"><span style=\"font-size: 18.6667px; font-family: Arial; vertical-align: baseline; white-space: pre-wrap; background-color: transparent;\">The Great Barrier Reef is more than worthy of its name. It covers more than 130,000 square miles off the coast of Australia. The reef is home to corals of all shapes, sizes, and colors. It is the world’s largest reef system. It supports an </span><span style=\"font-size: 18.6667px; font-family: Arial; vertical-align: baseline; white-space: pre-wrap; background-color: rgb(255, 242, 204);\">astounding</span><span style=\"font-size: 18.6667px; font-family: Arial; vertical-align: baseline; white-space: pre-wrap; background-color: transparent;\"> variety of marine life.</span></p><br><p dir=\"ltr\" style=\"line-height:1.2;margin-top:0pt;margin-bottom:0pt;text-align: center;\"><span style=\"font-size: 14.6667px; font-family: Arial; vertical-align: baseline; white-space: pre-wrap; background-color: transparent;\"><img src=\"https://media.penpalschools.com/media/course/20/Images/coralreef.jpg\" width=\"571\" height=\"381\" style=\"border-width: initial; border-style: none; transform: rotate(0rad);\" alt=\"Scientists say countries around the world will have to work together to reduce threats to the Great Barrier Reef.\"></span></p><p dir=\"ltr\" style=\"line-height:1.2;margin-top:0pt;margin-bottom:0pt;text-align: right;\"><span style=\"font-size: 12px; font-family: Arial; color: rgb(102, 102, 102); vertical-align: baseline; white-space: pre-wrap; background-color: transparent;\">DANIELA DIRSCHERL—GETTY IMAGES</span></p><br><p dir=\"ltr\" style=\"line-height:1.2;margin-top:0pt;margin-bottom:0pt;\"><span style=\"font-size: 14.6667px; font-family: Arial; color: rgb(102, 102, 102); font-style: italic; vertical-align: baseline; white-space: pre-wrap; background-color: transparent;\">Scientists say countries around the world will have to work together to reduce threats to the Great Barrier Reef.</span></p><br><p dir=\"ltr\" style=\"line-height:1.38;margin-top:0pt;margin-bottom:0pt;\"><span style=\"font-size: 18.6667px; font-family: Arial; vertical-align: baseline; white-space: pre-wrap; background-color: transparent;\">But today the Great Barrier Reef is dying. A major </span><span style=\"font-size: 18.6667px; font-family: Arial; vertical-align: baseline; white-space: pre-wrap; background-color: rgb(255, 242, 204);\">El Niño</span><span style=\"font-size: 18.6667px; font-family: Arial; vertical-align: baseline; white-space: pre-wrap; background-color: transparent;\"> event has caused temporary warming. That has combined with ongoing climate change. Together, they have heated the waters around the reef to nearly </span><span style=\"font-size: 18.6667px; font-family: Arial; vertical-align: baseline; white-space: pre-wrap; background-color: rgb(255, 242, 204);\">unprecedented</span><span style=\"font-size: 18.6667px; font-family: Arial; vertical-align: baseline; white-space: pre-wrap; background-color: transparent;\"> levels. That warming has driven a mass bleaching. It has sucked the color—and the life—out of the coral. And the Great Barrier Reef isn’t alone. “This is the longest bleaching event ever recorded,” says David Kline. He is a Scripps Institution of Oceanography scientist. “It’s truly global. And it’s … very severe.” </span></p><br><p dir=\"ltr\" style=\"line-height:1.38;margin-top:0pt;margin-bottom:0pt;\"><span style=\"font-size: 18.6667px; font-family: Arial; vertical-align: baseline; white-space: pre-wrap; background-color: transparent;\">Bleaching occurs because of ocean disruptions. They include warm water, pollution, and algae overgrowth. These disruptions drive away the </span><span style=\"font-size: 18.6667px; font-family: Arial; vertical-align: baseline; white-space: pre-wrap; background-color: rgb(255, 242, 204);\">symbiotic</span><span style=\"font-size: 18.6667px; font-family: Arial; vertical-align: baseline; white-space: pre-wrap; background-color: transparent;\"> organisms that live on the coral. Such organisms give coral its color. Within weeks, the reef could die. Left behind would be a forest of lifeless, bone-white coral. Scientists believe the bleaching now under way may kill more than 15% of the world’s coral.</span></p><br><p dir=\"ltr\" style=\"line-height:1.38;margin-top:0pt;margin-bottom:0pt;\"><span style=\"font-size: 24px; font-family: Arial; vertical-align: baseline; white-space: pre-wrap; background-color: transparent;\">A Great Loss</span></p><p dir=\"ltr\" style=\"line-height:1.38;margin-top:0pt;margin-bottom:0pt;\"><span style=\"font-size: 18.6667px; font-family: Arial; vertical-align: baseline; white-space: pre-wrap; background-color: transparent;\"> </span></p><p dir=\"ltr\" style=\"line-height:1.38;margin-top:0pt;margin-bottom:0pt;\"><span style=\"font-size: 18.6667px; font-family: Arial; vertical-align: baseline; white-space: pre-wrap; background-color: transparent;\">It’s not just a matter of beauty. Reefs act as natural barriers. They protect coastal communities from storms and flooding. Marine life depends on coral reefs as habitats. Coastal towns depend on them as tourist attractions.</span></p><br><p dir=\"ltr\" style=\"line-height:1.38;margin-top:0pt;margin-bottom:0pt;\"><span style=\"font-size: 18.6667px; font-family: Arial; vertical-align: baseline; white-space: pre-wrap; background-color: transparent;\">But a bigger worry may be what the bleaching suggests about future climate change. The rapid death of a coral reef is evidence that climate change is irreversibly affecting the world right now. Meanwhile, many policy makers are treating warming as something to be dealt with in the future. “Climate change may be slow-creeping sometimes. But other times, it takes great leaps forward,” says Steve Palumbi, an ocean scientist at Stanford University. “This is one of those leaps.”</span></p><br><p dir=\"ltr\" style=\"line-height:1.2;margin-top:0pt;margin-bottom:0pt;text-align: center;\"><span style=\"font-size: 14.6667px; font-family: Arial; vertical-align: baseline; white-space: pre-wrap; background-color: transparent;\"><img src=\"https://media.penpalschools.com/media/course/20/Images/coastaltowns.jpg\" width=\"560\" height=\"374\" style=\"border-width: initial; border-style: none; transform: rotate(0rad);\" alt=\"Coastal towns, like Airlie Beach in Australia, depend on coral reefs to attract tourists.\"></span></p><p dir=\"ltr\" style=\"line-height:1.2;margin-top:0pt;margin-bottom:0pt;text-align: right;\"><span style=\"font-size: 12px; font-family: Arial; color: rgb(102, 102, 102); vertical-align: baseline; white-space: pre-wrap; background-color: transparent;\">ANDREW WATSON—GETTY IMAGES</span></p><br><p dir=\"ltr\" style=\"line-height:1.2;margin-top:0pt;margin-bottom:0pt;\"><span style=\"font-size: 14.6667px; font-family: Arial; color: rgb(102, 102, 102); font-style: italic; vertical-align: baseline; white-space: pre-wrap; background-color: transparent;\">Coastal towns, like Airlie Beach in Australia, depend on coral reefs to attract tourists.</span></p><br><p dir=\"ltr\" style=\"line-height:1.38;margin-top:0pt;margin-bottom:0pt;\"><span style=\"font-size: 18.6667px; font-family: Arial; vertical-align: baseline; white-space: pre-wrap; background-color: transparent;\">Local solutions can slow reef loss. Examples include reducing fishing and cleaning up pollution. But scientists say a global problem requires a global solution. Nearly 200 countries agreed last year to work to keep global temperatures from rising more than 3.6°F by 2100. That goal will be tough to achieve. And if governments fail, coral reefs will be only the first victims.</span></p><br><p dir=\"ltr\" style=\"line-height:1.38;margin-top:0pt;margin-bottom:0pt;\"><span style=\"font-size: 18.6667px; font-family: Arial; font-weight: 700; vertical-align: baseline; white-space: pre-wrap; background-color: transparent;\">Vocabulary</span></p><div dir=\"ltr\" style=\"margin-left:0pt;\"><table style=\"border: none;\"><colgroup><col width=\"156\"><col width=\"420\"></colgroup><tbody><tr style=\"height:0px\"><td style=\"border-left:solid #000000 1px;border-right:solid #000000 1px;border-bottom:solid #000000 1px;border-top:solid #000000 1px;vertical-align:top;padding:7px 7px 7px 7px\"><p dir=\"ltr\" style=\"line-height:1.2;margin-top:0pt;margin-bottom:0pt;\"><span style=\"font-size: 14.6667px; font-family: Arial; font-weight: 700; vertical-align: baseline; white-space: pre-wrap; background-color: transparent;\">Word</span></p></td><td style=\"border-left:solid #000000 1px;border-right:solid #000000 1px;border-bottom:solid #000000 1px;border-top:solid #000000 1px;vertical-align:top;padding:7px 7px 7px 7px\"><p dir=\"ltr\" style=\"line-height:1.2;margin-top:0pt;margin-bottom:0pt;\"><span style=\"font-size: 14.6667px; font-family: Arial; font-weight: 700; vertical-align: baseline; white-space: pre-wrap; background-color: transparent;\">Definition</span></p></td></tr><tr style=\"height:0px\"><td style=\"border-left:solid #000000 1px;border-right:solid #000000 1px;border-bottom:solid #000000 1px;border-top:solid #000000 1px;vertical-align:top;padding:7px 7px 7px 7px\"><p dir=\"ltr\" style=\"line-height:1.2;margin-top:0pt;margin-bottom:0pt;\"><span style=\"font-size: 14.6667px; font-family: Arial; vertical-align: baseline; white-space: pre-wrap; background-color: transparent;\">astounding</span></p></td><td style=\"border-left:solid #000000 1px;border-right:solid #000000 1px;border-bottom:solid #000000 1px;border-top:solid #000000 1px;vertical-align:top;padding:7px 7px 7px 7px\"><p dir=\"ltr\" style=\"line-height:1.2;margin-top:0pt;margin-bottom:0pt;\"><span style=\"font-size: 14.6667px; font-family: Arial; color: rgb(34, 34, 34); font-style: italic; vertical-align: baseline; white-space: pre-wrap; background-color: transparent;\">adjective: </span><span style=\"font-size: 14.6667px; font-family: Arial; color: rgb(34, 34, 34); vertical-align: baseline; white-space: pre-wrap; background-color: transparent;\">causing a feeling of great surprise or wonder</span></p></td></tr><tr style=\"height:0px\"><td style=\"border-left:solid #000000 1px;border-right:solid #000000 1px;border-bottom:solid #000000 1px;border-top:solid #000000 1px;vertical-align:top;padding:7px 7px 7px 7px\"><p dir=\"ltr\" style=\"line-height:1.2;margin-top:0pt;margin-bottom:0pt;\"><span style=\"font-size: 14.6667px; font-family: Arial; vertical-align: baseline; white-space: pre-wrap; background-color: transparent;\">El </span><span style=\"font-size: 14.6667px; font-family: Arial; color: rgb(34, 34, 34); vertical-align: baseline; white-space: pre-wrap; background-color: transparent;\">Niño</span></p></td><td style=\"border-left:solid #000000 1px;border-right:solid #000000 1px;border-bottom:solid #000000 1px;border-top:solid #000000 1px;vertical-align:top;padding:7px 7px 7px 7px\"><p dir=\"ltr\" style=\"line-height:1.2;margin-top:0pt;margin-bottom:0pt;\"><span style=\"font-size: 14.6667px; font-family: Arial; color: rgb(34, 34, 34); vertical-align: baseline; white-space: pre-wrap; background-color: transparent;\">a naturally occurring weather event in which a warming of the central Pacific Ocean interacts with the atmosphere, causing a change in weather across the globe. This year’s El Niño has tied with the one in 1997–1998 as the strongest on record, according to the National Oceanic and Atmospheric Administration.</span></p></td></tr><tr style=\"height:0px\"><td style=\"border-left:solid #000000 1px;border-right:solid #000000 1px;border-bottom:solid #000000 1px;border-top:solid #000000 1px;vertical-align:top;padding:7px 7px 7px 7px\"><p dir=\"ltr\" style=\"line-height:1.2;margin-top:0pt;margin-bottom:0pt;\"><span style=\"font-size: 14.6667px; font-family: Arial; vertical-align: baseline; white-space: pre-wrap; background-color: transparent;\">unprecedented</span></p></td><td style=\"border-left:solid #000000 1px;border-right:solid #000000 1px;border-bottom:solid #000000 1px;border-top:solid #000000 1px;vertical-align:top;padding:7px 7px 7px 7px\"><p dir=\"ltr\" style=\"line-height:1.2;margin-top:0pt;margin-bottom:0pt;\"><span style=\"font-size: 14.6667px; font-family: Arial; color: rgb(34, 34, 34); font-style: italic; vertical-align: baseline; white-space: pre-wrap; background-color: transparent;\">adjective: </span><span style=\"font-size: 14.6667px; font-family: Arial; color: rgb(34, 34, 34); vertical-align: baseline; white-space: pre-wrap; background-color: transparent;\">never done or experienced before</span></p></td></tr><tr style=\"height:0px\"><td style=\"border-left:solid #000000 1px;border-right:solid #000000 1px;border-bottom:solid #000000 1px;border-top:solid #000000 1px;vertical-align:top;padding:7px 7px 7px 7px\"><p dir=\"ltr\" style=\"line-height:1.2;margin-top:0pt;margin-bottom:0pt;\"><span style=\"font-size: 14.6667px; font-family: Arial; vertical-align: baseline; white-space: pre-wrap; background-color: transparent;\">symbiotic</span></p></td><td style=\"border-left:solid #000000 1px;border-right:solid #000000 1px;border-bottom:solid #000000 1px;border-top:solid #000000 1px;vertical-align:top;padding:7px 7px 7px 7px\"><p dir=\"ltr\" style=\"line-height:1.2;margin-top:0pt;margin-bottom:0pt;\"><span style=\"font-size: 14.6667px; font-family: Arial; color: rgb(34, 34, 34); font-style: italic; vertical-align: baseline; white-space: pre-wrap; background-color: transparent;\">adjective: </span><span style=\"font-size: 14.6667px; font-family: Arial; color: rgb(34, 34, 34); vertical-align: baseline; white-space: pre-wrap; background-color: transparent;\">living together and depending on each other</span></p></td></tr></tbody></table></div></span>\t<span id=\"docs-internal-guid-831a1ae8-6b0a-38ec-614c-6a9c4f77d72b\"><p dir=\"ltr\" style=\"line-height:1.38;margin-top:0pt;margin-bottom:0pt;\"><span style=\"font-size: 18.6667px; font-family: Arial; font-style: italic; vertical-align: baseline; white-space: pre-wrap; background-color: transparent;\">Warm water temperatures have bleached coral off the Australian coast.</span></p><br><p dir=\"ltr\" style=\"line-height:1.38;margin-top:0pt;margin-bottom:0pt;\"><span style=\"font-size: 18.6667px; font-family: Arial; color: rgb(102, 102, 102); vertical-align: baseline; white-space: pre-wrap; background-color: transparent;\">By Justin Worland for TIME, adapted by TFK editors </span></p><p dir=\"ltr\" style=\"line-height:1.38;margin-top:0pt;margin-bottom:0pt;\"><span style=\"font-size: 18.6667px; font-family: Arial; color: rgb(102, 102, 102); vertical-align: baseline; white-space: pre-wrap; background-color: transparent;\">April 25, 2016</span></p><br><p dir=\"ltr\" style=\"line-height:1.38;margin-top:0pt;margin-bottom:0pt;\"><span style=\"font-size: 16px; font-family: Arial; vertical-align: baseline; white-space: pre-wrap; background-color: transparent;\">The Great Barrier Reef is more than worthy of its name. Corals of all shapes, sizes, and colors cover more than 130,000 square miles off the coast of Australia. It is the world’s largest reef system. It supports an </span><span style=\"font-size: 16px; font-family: Arial; vertical-align: baseline; white-space: pre-wrap; background-color: rgb(255, 242, 204);\">astounding</span><span style=\"font-size: 16px; font-family: Arial; vertical-align: baseline; white-space: pre-wrap; background-color: transparent;\"> variety of marine life. </span></p><br><p dir=\"ltr\" style=\"line-height:1.38;margin-top:0pt;margin-bottom:0pt;\"><span style=\"font-size: 16px; font-family: Arial; vertical-align: baseline; white-space: pre-wrap; background-color: transparent;\">But today the Great Barrier Reef is dying. The temporary warming effect of a major </span><span style=\"font-size: 16px; font-family: Arial; vertical-align: baseline; white-space: pre-wrap; background-color: rgb(255, 242, 204);\">El Niño</span><span style=\"font-size: 16px; font-family: Arial; vertical-align: baseline; white-space: pre-wrap; background-color: transparent;\"> event has combined with ongoing climate change. This has heated the waters around the reef to nearly </span><span style=\"font-size: 16px; font-family: Arial; vertical-align: baseline; white-space: pre-wrap; background-color: rgb(255, 242, 204);\">unprecedented</span><span style=\"font-size: 16px; font-family: Arial; vertical-align: baseline; white-space: pre-wrap; background-color: transparent;\"> levels. That warming has driven a mass bleaching that has sucked the color—and the life—out of the coral. And the Great Barrier Reef isn’t alone. “This is the longest bleaching event ever recorded,” says David Kline. He is a Scripps Institution of Oceanography scientist. “It’s truly global, and it’s looking very severe.” </span></p><br><p dir=\"ltr\" style=\"line-height:1.2;margin-top:0pt;margin-bottom:0pt;text-align: center;\"><span style=\"font-size: 14.6667px; font-family: Arial; vertical-align: baseline; white-space: pre-wrap; background-color: transparent;\"><img src=\"https://media.penpalschools.com/media/course/20/Images/coralreef.jpg\" width=\"624\" height=\"416\" style=\"border-width: initial; border-style: none; transform: rotate(0rad);\" alt=\"Scientists say countries around the world will have to work together to reduce threats to the Great Barrier Reef.\"></span></p><p dir=\"ltr\" style=\"line-height:1.2;margin-top:0pt;margin-bottom:0pt;text-align: right;\"><span style=\"font-size: 12px; font-family: Arial; color: rgb(102, 102, 102); vertical-align: baseline; white-space: pre-wrap; background-color: transparent;\">DANIELA DIRSCHERL—GETTY IMAGES</span></p><br><p dir=\"ltr\" style=\"line-height:1.2;margin-top:0pt;margin-bottom:0pt;\"><span style=\"font-size: 16px; font-family: Arial; color: rgb(102, 102, 102); font-style: italic; vertical-align: baseline; white-space: pre-wrap; background-color: transparent;\">Scientists say countries around the world will have to work together to reduce threats to the Great Barrier Reef.</span></p><br><p dir=\"ltr\" style=\"line-height:1.38;margin-top:0pt;margin-bottom:0pt;\"><span style=\"font-size: 16px; font-family: Arial; vertical-align: baseline; white-space: pre-wrap; background-color: transparent;\">Bleaching occurs because of ocean disruptions like warm water, pollution, or algae overgrowth. These disruptions drive away the </span><span style=\"font-size: 16px; font-family: Arial; vertical-align: baseline; white-space: pre-wrap; background-color: rgb(255, 242, 204);\">symbiotic</span><span style=\"font-size: 16px; font-family: Arial; vertical-align: baseline; white-space: pre-wrap; background-color: transparent;\"> organisms that live on the coral and give it color. Within weeks, the reef could die, leaving behind a forest of lifeless, bone-white coral. Scientists believe the bleaching now under way may kill more than 15% of the world’s coral.</span></p><br><p dir=\"ltr\" style=\"line-height:1.2;margin-top:0pt;margin-bottom:0pt;text-align: center;\"><span style=\"font-size: 14.6667px; font-family: Arial; vertical-align: baseline; white-space: pre-wrap; background-color: transparent;\"><img src=\"https://media.penpalschools.com/media/course/20/Images/warmwater.jpg\" width=\"602\" height=\"402\" style=\"border-width: initial; border-style: none; transform: rotate(0rad);\" alt=\"Warm water and pollution are driving away the organisms that give coral reefs their vibrant colors.\"></span></p><p dir=\"ltr\" style=\"line-height:1.2;margin-top:0pt;margin-bottom:0pt;text-align: right;\"><span style=\"font-size: 12px; font-family: Arial; color: rgb(102, 102, 102); vertical-align: baseline; white-space: pre-wrap; background-color: transparent;\">COURTESY XL CATLIN SEAVIEW SURVEY</span></p><br><p dir=\"ltr\" style=\"line-height:1.2;margin-top:0pt;margin-bottom:0pt;\"><span style=\"font-size: 16px; font-family: Arial; color: rgb(102, 102, 102); font-style: italic; vertical-align: baseline; white-space: pre-wrap; background-color: transparent;\">Warm water and pollution are driving away the organisms that give coral reefs their vibrant colors.</span></p><br><p dir=\"ltr\" style=\"line-height:1.38;margin-top:0pt;margin-bottom:0pt;\"><span style=\"font-size: 18.6667px; font-family: Arial; vertical-align: baseline; white-space: pre-wrap; background-color: transparent;\">A Great Loss </span></p><br><p dir=\"ltr\" style=\"line-height:1.38;margin-top:0pt;margin-bottom:0pt;\"><span style=\"font-size: 16px; font-family: Arial; vertical-align: baseline; white-space: pre-wrap; background-color: transparent;\">It’s not just a matter of aquatic beauty. Reefs act as natural barriers that protect coastal communities from storms and flooding. Marine life depends on coral reefs as habitats. Coastal towns depend on them as tourist attractions.</span></p><br><p dir=\"ltr\" style=\"line-height:1.38;margin-top:0pt;margin-bottom:0pt;\"><span style=\"font-size: 16px; font-family: Arial; vertical-align: baseline; white-space: pre-wrap; background-color: transparent;\">But a bigger worry may be what the bleaching suggests about future climate change. The rapid death of a coral reef is evidence that climate change is irreversibly affecting the world right now, even as policymakers treat warming as something to be dealt with in the future. “Climate change may be slow-creeping sometimes, but other times, it takes great leaps forward,” says Steve Palumbi, an ocean scientist at Stanford University. “This is one of those leaps.”</span></p><br><p dir=\"ltr\" style=\"line-height:1.2;margin-top:0pt;margin-bottom:0pt;text-align: center;\"><span style=\"font-size: 14.6667px; font-family: Arial; vertical-align: baseline; white-space: pre-wrap; background-color: transparent;\"><img src=\"https://media.penpalschools.com/media/course/20/Images/coastaltowns.jpg\" width=\"602\" height=\"402\" style=\"border-width: initial; border-style: none; transform: rotate(0rad);\" alt=\"Coastal towns, like Airlie Beach in Australia, depend on coral reefs to attract tourists.\"></span></p><p dir=\"ltr\" style=\"line-height:1.2;margin-top:0pt;margin-bottom:0pt;text-align: right;\"><span style=\"font-size: 12px; font-family: Arial; color: rgb(102, 102, 102); vertical-align: baseline; white-space: pre-wrap; background-color: transparent;\">ANDREW WATSON—GETTY IMAGES</span></p><br><p dir=\"ltr\" style=\"line-height:1.2;margin-top:0pt;margin-bottom:0pt;\"><span style=\"font-size: 14.6667px; font-family: Arial; color: rgb(102, 102, 102); font-style: italic; vertical-align: baseline; white-space: pre-wrap; background-color: transparent;\">Coastal towns, like Airlie Beach in Australia, depend on coral reefs to attract tourists.</span></p><br><p dir=\"ltr\" style=\"line-height:1.38;margin-top:0pt;margin-bottom:0pt;\"><span style=\"font-size: 16px; font-family: Arial; vertical-align: baseline; white-space: pre-wrap; background-color: transparent;\">Local solutions, like reducing fishing and cleaning up pollution, can slow reef loss. But scientists say a global problem requires a global solution. Nearly 200 countries agreed last year to work to keep global temperatures from rising more than 3.6°F by 2100. That goal will be tough to achieve. And if governments fail, coral reefs will be only the first victims.</span></p><br><p dir=\"ltr\" style=\"line-height:1.38;margin-top:0pt;margin-bottom:0pt;\"><span style=\"font-size: 18.6667px; font-family: Arial; font-weight: 700; vertical-align: baseline; white-space: pre-wrap; background-color: transparent;\">Vocabulary</span></p><div dir=\"ltr\" style=\"margin-left:0pt;\"><table style=\"border: none;\"><colgroup><col width=\"169\"><col width=\"455\"></colgroup><tbody><tr style=\"height:0px\"><td style=\"border-left:solid #000000 1px;border-right:solid #000000 1px;border-bottom:solid #000000 1px;border-top:solid #000000 1px;vertical-align:top;padding:7px 7px 7px 7px\"><p dir=\"ltr\" style=\"line-height:1.2;margin-top:0pt;margin-bottom:0pt;\"><span style=\"font-size: 14.6667px; font-family: Montserrat; font-weight: 700; vertical-align: baseline; white-space: pre-wrap; background-color: transparent;\">Word</span></p></td><td style=\"border-left:solid #000000 1px;border-right:solid #000000 1px;border-bottom:solid #000000 1px;border-top:solid #000000 1px;vertical-align:top;padding:7px 7px 7px 7px\"><p dir=\"ltr\" style=\"line-height:1.2;margin-top:0pt;margin-bottom:0pt;\"><span style=\"font-size: 14.6667px; font-family: Montserrat; font-weight: 700; vertical-align: baseline; white-space: pre-wrap; background-color: transparent;\">Definition</span></p></td></tr><tr style=\"height:0px\"><td style=\"border-left:solid #000000 1px;border-right:solid #000000 1px;border-bottom:solid #000000 1px;border-top:solid #000000 1px;vertical-align:top;padding:7px 7px 7px 7px\"><p dir=\"ltr\" style=\"line-height:1.2;margin-top:0pt;margin-bottom:0pt;\"><span style=\"font-size: 14.6667px; font-family: Arial; vertical-align: baseline; white-space: pre-wrap; background-color: transparent;\">astounding</span></p></td><td style=\"border-left:solid #000000 1px;border-right:solid #000000 1px;border-bottom:solid #000000 1px;border-top:solid #000000 1px;vertical-align:top;padding:7px 7px 7px 7px\"><p dir=\"ltr\" style=\"line-height:1.2;margin-top:0pt;margin-bottom:0pt;\"><span style=\"font-size: 14.6667px; font-family: Arial; color: rgb(34, 34, 34); font-style: italic; vertical-align: baseline; white-space: pre-wrap; background-color: transparent;\">adjective: </span><span style=\"font-size: 14.6667px; font-family: Arial; color: rgb(34, 34, 34); vertical-align: baseline; white-space: pre-wrap; background-color: transparent;\">causing a feeling of great surprise or wonder</span></p></td></tr><tr style=\"height:0px\"><td style=\"border-left:solid #000000 1px;border-right:solid #000000 1px;border-bottom:solid #000000 1px;border-top:solid #000000 1px;vertical-align:top;padding:7px 7px 7px 7px\"><p dir=\"ltr\" style=\"line-height:1.2;margin-top:0pt;margin-bottom:0pt;\"><span style=\"font-size: 14.6667px; font-family: Arial; vertical-align: baseline; white-space: pre-wrap; background-color: transparent;\">El </span><span style=\"font-size: 14.6667px; font-family: Arial; color: rgb(34, 34, 34); vertical-align: baseline; white-space: pre-wrap; background-color: transparent;\">Niño</span></p></td><td style=\"border-left:solid #000000 1px;border-right:solid #000000 1px;border-bottom:solid #000000 1px;border-top:solid #000000 1px;vertical-align:top;padding:7px 7px 7px 7px\"><p dir=\"ltr\" style=\"line-height:1.2;margin-top:0pt;margin-bottom:0pt;\"><span style=\"font-size: 14.6667px; font-family: Arial; color: rgb(34, 34, 34); vertical-align: baseline; white-space: pre-wrap; background-color: transparent;\">a naturally occurring weather event in which a warming of the central Pacific Ocean interacts with the atmosphere, causing a change in weather across the globe. This year’s El Niño has tied with the one in 1997–1998 as the strongest on record, according to the National Oceanic and Atmospheric Administration.</span></p></td></tr><tr style=\"height:0px\"><td style=\"border-left:solid #000000 1px;border-right:solid #000000 1px;border-bottom:solid #000000 1px;border-top:solid #000000 1px;vertical-align:top;padding:7px 7px 7px 7px\"><p dir=\"ltr\" style=\"line-height:1.2;margin-top:0pt;margin-bottom:0pt;\"><span style=\"font-size: 14.6667px; font-family: Arial; vertical-align: baseline; white-space: pre-wrap; background-color: transparent;\">unprecedented</span></p></td><td style=\"border-left:solid #000000 1px;border-right:solid #000000 1px;border-bottom:solid #000000 1px;border-top:solid #000000 1px;vertical-align:top;padding:7px 7px 7px 7px\"><p dir=\"ltr\" style=\"line-height:1.2;margin-top:0pt;margin-bottom:0pt;\"><span style=\"font-size: 14.6667px; font-family: Arial; color: rgb(34, 34, 34); font-style: italic; vertical-align: baseline; white-space: pre-wrap; background-color: transparent;\">adjective: </span><span style=\"font-size: 14.6667px; font-family: Arial; color: rgb(34, 34, 34); vertical-align: baseline; white-space: pre-wrap; background-color: transparent;\">never done or experienced before</span></p></td></tr><tr style=\"height:0px\"><td style=\"border-left:solid #000000 1px;border-right:solid #000000 1px;border-bottom:solid #000000 1px;border-top:solid #000000 1px;vertical-align:top;padding:7px 7px 7px 7px\"><p dir=\"ltr\" style=\"line-height:1.2;margin-top:0pt;margin-bottom:0pt;\"><span style=\"font-size: 14.6667px; font-family: Arial; vertical-align: baseline; white-space: pre-wrap; background-color: transparent;\">symbiotic</span></p></td><td style=\"border-left:solid #000000 1px;border-right:solid #000000 1px;border-bottom:solid #000000 1px;border-top:solid #000000 1px;vertical-align:top;padding:7px 7px 7px 7px\"><p dir=\"ltr\" style=\"line-height:1.2;margin-top:0pt;margin-bottom:0pt;\"><span style=\"font-size: 14.6667px; font-family: Arial; color: rgb(34, 34, 34); font-style: italic; vertical-align: baseline; white-space: pre-wrap; background-color: transparent;\">adjective: </span><span style=\"font-size: 14.6667px; font-family: Arial; color: rgb(34, 34, 34); vertical-align: baseline; white-space: pre-wrap; background-color: transparent;\">living together and depending on each other</span></p></td></tr></tbody></table></div></span>\t<span id=\"docs-internal-guid-e9079529-9506-bc04-3cfd-c766d7b0374b\"><p dir=\"ltr\" style=\"line-height:1.38;margin-top:0pt;margin-bottom:0pt;\"><span style=\"font-size: 18.6667px; font-family: Arial; font-style: italic; vertical-align: baseline; white-space: pre-wrap; background-color: transparent;\">Warm water temperatures have bleached coral off the Australian coast.</span></p><br><p dir=\"ltr\" style=\"line-height:1.38;margin-top:0pt;margin-bottom:0pt;\"><span style=\"font-size: 18.6667px; font-family: Arial; color: rgb(102, 102, 102); vertical-align: baseline; white-space: pre-wrap; background-color: transparent;\">By Justin Worland for TIME, adapted by TFK editors </span></p><p dir=\"ltr\" style=\"line-height:1.38;margin-top:0pt;margin-bottom:0pt;\"><span style=\"font-size: 18.6667px; font-family: Arial; color: rgb(102, 102, 102); vertical-align: baseline; white-space: pre-wrap; background-color: transparent;\">April 25, 2016</span></p><br><p dir=\"ltr\" style=\"line-height:1.38;margin-top:0pt;margin-bottom:0pt;\"><span style=\"font-size: 16px; font-family: Arial; vertical-align: baseline; white-space: pre-wrap; background-color: transparent;\">The Great Barrier Reef is more than worthy of its name. Corals of all shapes, sizes, and colors cover more than 130,000 square miles off the coast of Australia, making it the world’s largest reef system and supporting an </span><span style=\"font-size: 16px; font-family: Arial; vertical-align: baseline; white-space: pre-wrap; background-color: rgb(255, 242, 204);\">astounding</span><span style=\"font-size: 16px; font-family: Arial; vertical-align: baseline; white-space: pre-wrap; background-color: transparent;\"> variety of marine life. </span></p><br><p dir=\"ltr\" style=\"line-height:1.2;margin-top:0pt;margin-bottom:0pt;text-align: center;\"><span style=\"font-size: 14.6667px; font-family: Arial; vertical-align: baseline; white-space: pre-wrap; background-color: transparent;\"><img src=\"https://media.penpalschools.com/media/course/20/Images/coralreef.jpg\" width=\"624\" height=\"416\" style=\"border-width: initial; border-style: none; transform: rotate(0rad);\" alt=\"Scientists say countries around the world will have to work together to reduce threats to the Great Barrier Reef.\"></span></p><p dir=\"ltr\" style=\"line-height:1.2;margin-top:0pt;margin-bottom:0pt;text-align: right;\"><span style=\"font-size: 12px; font-family: Arial; color: rgb(102, 102, 102); vertical-align: baseline; white-space: pre-wrap; background-color: transparent;\">DANIELA DIRSCHERL—GETTY IMAGES</span></p><br><p dir=\"ltr\" style=\"line-height:1.2;margin-top:0pt;margin-bottom:0pt;\"><span style=\"font-size: 16px; font-family: Arial; color: rgb(102, 102, 102); font-style: italic; vertical-align: baseline; white-space: pre-wrap; background-color: transparent;\">Scientists say countries around the world will have to work together to reduce threats to the Great Barrier Reef.</span></p><br><p dir=\"ltr\" style=\"line-height:1.38;margin-top:0pt;margin-bottom:0pt;\"><span style=\"font-size: 16px; font-family: Arial; vertical-align: baseline; white-space: pre-wrap; background-color: transparent;\">But today the Great Barrier Reef is dying. The temporary warming effect of a major </span><span style=\"font-size: 16px; font-family: Arial; vertical-align: baseline; white-space: pre-wrap; background-color: rgb(255, 242, 204);\">El Niño</span><span style=\"font-size: 16px; font-family: Arial; vertical-align: baseline; white-space: pre-wrap; background-color: transparent;\"> event, combined with ongoing climate change, has heated the waters around the reef to nearly </span><span style=\"font-size: 16px; font-family: Arial; vertical-align: baseline; white-space: pre-wrap; background-color: rgb(255, 242, 204);\">unprecedented</span><span style=\"font-size: 16px; font-family: Arial; vertical-align: baseline; white-space: pre-wrap; background-color: transparent;\"> levels. That warming has in turn driven a mass bleaching that has sucked the color—and the life—out of the coral. And the Great Barrier Reef isn’t alone. “This is the longest bleaching event ever recorded,” says David Kline, a Scripps Institution of Oceanography scientist. “It’s truly global, and it’s looking very severe.”</span></p><br><p dir=\"ltr\" style=\"line-height:1.38;margin-top:0pt;margin-bottom:0pt;\"><span style=\"font-size: 16px; font-family: Arial; vertical-align: baseline; white-space: pre-wrap; background-color: transparent;\">Bleaching occurs when ocean disruptions—warm water, pollution, algae overgrowth—drive away the </span><span style=\"font-size: 16px; font-family: Arial; vertical-align: baseline; white-space: pre-wrap; background-color: rgb(255, 242, 204);\">symbiotic</span><span style=\"font-size: 16px; font-family: Arial; vertical-align: baseline; white-space: pre-wrap; background-color: transparent;\"> organisms that live on the coral and give it color. Within weeks, the reef could die, leaving behind a forest of lifeless, bone-white coral. Scientists believe the bleaching now under way may kill more than 15% of the world’s coral.</span></p><br><p dir=\"ltr\" style=\"line-height:1.2;margin-top:0pt;margin-bottom:0pt;text-align: center;\"><span style=\"font-size: 14.6667px; font-family: Arial; vertical-align: baseline; white-space: pre-wrap; background-color: transparent;\"><img src=\"https://media.penpalschools.com/media/course/20/Images/warmwater.jpg\" width=\"602\" height=\"402\" style=\"border-width: initial; border-style: none; transform: rotate(0rad);\" alt=\"Warm water and pollution are driving away the organisms that give coral reefs their vibrant colors.\"></span></p><p dir=\"ltr\" style=\"line-height:1.2;margin-top:0pt;margin-bottom:0pt;text-align: right;\"><span style=\"font-size: 12px; font-family: Arial; color: rgb(102, 102, 102); vertical-align: baseline; white-space: pre-wrap; background-color: transparent;\">COURTESY XL CATLIN SEAVIEW SURVEY</span></p><br><p dir=\"ltr\" style=\"line-height:1.2;margin-top:0pt;margin-bottom:0pt;\"><span style=\"font-size: 16px; font-family: Arial; color: rgb(102, 102, 102); font-style: italic; vertical-align: baseline; white-space: pre-wrap; background-color: transparent;\">Warm water and pollution are driving away the organisms that give coral reefs their vibrant colors.</span></p><br><p dir=\"ltr\" style=\"line-height:1.38;margin-top:0pt;margin-bottom:0pt;\"><span style=\"font-size: 18.6667px; font-family: Arial; vertical-align: baseline; white-space: pre-wrap; background-color: transparent;\">A Great Loss</span></p><br><p dir=\"ltr\" style=\"line-height:1.38;margin-top:0pt;margin-bottom:0pt;\"><span style=\"font-size: 16px; font-family: Arial; vertical-align: baseline; white-space: pre-wrap; background-color: transparent;\">It’s not just a matter of aquatic beauty. Reefs act as natural barriers that protect coastal communities from storms and flooding. Marine life depends on coral reefs as habitats. Coastal towns depend on them as tourist attractions.</span></p><br><p dir=\"ltr\" style=\"line-height:1.38;margin-top:0pt;margin-bottom:0pt;\"><span style=\"font-size: 16px; font-family: Arial; vertical-align: baseline; white-space: pre-wrap; background-color: transparent;\">But a bigger worry may be what the bleaching suggests about future climate change. The rapid death of a coral reef is evidence that climate change is irreversibly affecting the world right now, even as policy makers treat warming as something to be dealt with in the future. “Climate change may be slow-creeping sometimes, but other times, it takes great leaps forward,” says Steve Palumbi, an ocean scientist at Stanford University. “This is one of those leaps.”</span></p><br><p dir=\"ltr\" style=\"line-height:1.2;margin-top:0pt;margin-bottom:0pt;text-align: center;\"><span style=\"font-size: 14.6667px; font-family: Arial; vertical-align: baseline; white-space: pre-wrap; background-color: transparent;\"><img src=\"https://media.penpalschools.com/media/course/20/Images/coastaltowns.jpg\" width=\"601\" height=\"401\" style=\"border-width: initial; border-style: none; transform: rotate(0rad);\" alt=\"Coastal towns, like Airlie Beach in Australia, depend on coral reefs to attract tourists.\"></span></p><p dir=\"ltr\" style=\"line-height:1.2;margin-top:0pt;margin-bottom:0pt;text-align: right;\"><span style=\"font-size: 12px; font-family: Arial; color: rgb(102, 102, 102); vertical-align: baseline; white-space: pre-wrap; background-color: transparent;\">ANDREW WATSON—GETTY IMAGES</span></p><br><p dir=\"ltr\" style=\"line-height:1.2;margin-top:0pt;margin-bottom:0pt;\"><span style=\"font-size: 14.6667px; font-family: Arial; color: rgb(102, 102, 102); font-style: italic; vertical-align: baseline; white-space: pre-wrap; background-color: transparent;\">Coastal towns, like Airlie Beach in Australia, depend on coral reefs to attract tourists.</span></p><br><p dir=\"ltr\" style=\"line-height:1.38;margin-top:0pt;margin-bottom:0pt;\"><span style=\"font-size: 16px; font-family: Arial; vertical-align: baseline; white-space: pre-wrap; background-color: transparent;\">Local solutions, like reducing fishing and cleaning up pollution, can slow reef loss. But scientists say a global problem requires a global solution. Nearly 200 countries agreed last year to work to keep global temperatures from rising more than 3.6°F by 2100. That goal will be tough to achieve. And if governments fail, coral reefs will be only the first victims.</span></p><br><p dir=\"ltr\" style=\"line-height:1.38;margin-top:0pt;margin-bottom:0pt;\"><span style=\"font-size: 18.6667px; font-family: Arial; font-weight: 700; vertical-align: baseline; white-space: pre-wrap; background-color: transparent;\">Vocabulary</span></p><div dir=\"ltr\" style=\"margin-left:0pt;\"><table style=\"border: none;\"><colgroup><col width=\"169\"><col width=\"455\"></colgroup><tbody><tr style=\"height:0px\"><td style=\"border-left:solid #000000 1px;border-right:solid #000000 1px;border-bottom:solid #000000 1px;border-top:solid #000000 1px;vertical-align:top;padding:7px 7px 7px 7px\"><p dir=\"ltr\" style=\"line-height:1.2;margin-top:0pt;margin-bottom:0pt;\"><span style=\"font-size: 14.6667px; font-family: Arial; font-weight: 700; vertical-align: baseline; white-space: pre-wrap; background-color: transparent;\">Word</span></p></td><td style=\"border-left:solid #000000 1px;border-right:solid #000000 1px;border-bottom:solid #000000 1px;border-top:solid #000000 1px;vertical-align:top;padding:7px 7px 7px 7px\"><p dir=\"ltr\" style=\"line-height:1.2;margin-top:0pt;margin-bottom:0pt;\"><span style=\"font-size: 14.6667px; font-family: Arial; font-weight: 700; vertical-align: baseline; white-space: pre-wrap; background-color: transparent;\">Definition</span></p></td></tr><tr style=\"height:0px\"><td style=\"border-left:solid #000000 1px;border-right:solid #000000 1px;border-bottom:solid #000000 1px;border-top:solid #000000 1px;vertical-align:top;padding:7px 7px 7px 7px\"><p dir=\"ltr\" style=\"line-height:1.2;margin-top:0pt;margin-bottom:0pt;\"><span style=\"font-size: 14.6667px; font-family: Arial; vertical-align: baseline; white-space: pre-wrap; background-color: transparent;\">astounding</span></p></td><td style=\"border-left:solid #000000 1px;border-right:solid #000000 1px;border-bottom:solid #000000 1px;border-top:solid #000000 1px;vertical-align:top;padding:7px 7px 7px 7px\"><p dir=\"ltr\" style=\"line-height:1.2;margin-top:0pt;margin-bottom:0pt;\"><span style=\"font-size: 14.6667px; font-family: Arial; color: rgb(34, 34, 34); font-style: italic; vertical-align: baseline; white-space: pre-wrap; background-color: transparent;\">adjective: </span><span style=\"font-size: 14.6667px; font-family: Arial; color: rgb(34, 34, 34); vertical-align: baseline; white-space: pre-wrap; background-color: transparent;\">causing a feeling of great surprise or wonder</span></p></td></tr><tr style=\"height:0px\"><td style=\"border-left:solid #000000 1px;border-right:solid #000000 1px;border-bottom:solid #000000 1px;border-top:solid #000000 1px;vertical-align:top;padding:7px 7px 7px 7px\"><p dir=\"ltr\" style=\"line-height:1.2;margin-top:0pt;margin-bottom:0pt;\"><span style=\"font-size: 14.6667px; font-family: Arial; vertical-align: baseline; white-space: pre-wrap; background-color: transparent;\">El </span><span style=\"font-size: 14.6667px; font-family: Arial; color: rgb(34, 34, 34); vertical-align: baseline; white-space: pre-wrap; background-color: transparent;\">Niño</span></p></td><td style=\"border-left:solid #000000 1px;border-right:solid #000000 1px;border-bottom:solid #000000 1px;border-top:solid #000000 1px;vertical-align:top;padding:7px 7px 7px 7px\"><p dir=\"ltr\" style=\"line-height:1.2;margin-top:0pt;margin-bottom:0pt;\"><span style=\"font-size: 14.6667px; font-family: Arial; color: rgb(34, 34, 34); vertical-align: baseline; white-space: pre-wrap; background-color: transparent;\">a naturally occurring weather event in which a warming of the central Pacific Ocean interacts with the atmosphere, causing a change in weather across the globe. This year’s El Niño has tied with the one in 1997–1998 as the strongest on record, according to the National Oceanic and Atmospheric Administration.</span></p></td></tr><tr style=\"height:0px\"><td style=\"border-left:solid #000000 1px;border-right:solid #000000 1px;border-bottom:solid #000000 1px;border-top:solid #000000 1px;vertical-align:top;padding:7px 7px 7px 7px\"><p dir=\"ltr\" style=\"line-height:1.2;margin-top:0pt;margin-bottom:0pt;\"><span style=\"font-size: 14.6667px; font-family: Arial; vertical-align: baseline; white-space: pre-wrap; background-color: transparent;\">unprecedented</span></p></td><td style=\"border-left:solid #000000 1px;border-right:solid #000000 1px;border-bottom:solid #000000 1px;border-top:solid #000000 1px;vertical-align:top;padding:7px 7px 7px 7px\"><p dir=\"ltr\" style=\"line-height:1.2;margin-top:0pt;margin-bottom:0pt;\"><span style=\"font-size: 14.6667px; font-family: Arial; color: rgb(34, 34, 34); font-style: italic; vertical-align: baseline; white-space: pre-wrap; background-color: transparent;\">adjective: </span><span style=\"font-size: 14.6667px; font-family: Arial; color: rgb(34, 34, 34); vertical-align: baseline; white-space: pre-wrap; background-color: transparent;\">never done or experienced before</span></p></td></tr><tr style=\"height:0px\"><td style=\"border-left:solid #000000 1px;border-right:solid #000000 1px;border-bottom:solid #000000 1px;border-top:solid #000000 1px;vertical-align:top;padding:7px 7px 7px 7px\"><p dir=\"ltr\" style=\"line-height:1.2;margin-top:0pt;margin-bottom:0pt;\"><span style=\"font-size: 14.6667px; font-family: Arial; vertical-align: baseline; white-space: pre-wrap; background-color: transparent;\">symbiotic</span></p></td><td style=\"border-left:solid #000000 1px;border-right:solid #000000 1px;border-bottom:solid #000000 1px;border-top:solid #000000 1px;vertical-align:top;padding:7px 7px 7px 7px\"><p dir=\"ltr\" style=\"line-height:1.2;margin-top:0pt;margin-bottom:0pt;\"><span style=\"font-size: 14.6667px; font-family: Arial; color: rgb(34, 34, 34); font-style: italic; vertical-align: baseline; white-space: pre-wrap; background-color: transparent;\">adjective: </span><span style=\"font-size: 14.6667px; font-family: Arial; color: rgb(34, 34, 34); vertical-align: baseline; white-space: pre-wrap; background-color: transparent;\">living together and depending on each other</span></p></td></tr></tbody></table></div></span>\t156\t156\t156\n",
      "\n"
     ]
    }
   ],
   "source": [
    "import re\n",
    "data[0]=re.sub(r\"(\\<.*?\\>)\",\"\",data[0])\n",
    "print(data[1])"
   ]
  },
  {
   "cell_type": "code",
   "execution_count": 14,
   "metadata": {
    "collapsed": false
   },
   "outputs": [],
   "source": [
    "def printFile(filePath):\n",
    "    print filePath\n",
    "    with open(filePath,'r') as f:\n",
    "        #data = pd.read_csv(f,delim_whitespace=True,header=None,error_bad_lines=False)\n",
    "        data = pd.read_csv(f,delim_whitespace=True,header=None)\n",
    "        print \"summary:\\n\",data.describe(),\"\\n\\nhead:\"\n",
    "        print \"==========================================\\n\"\n",
    "        print data.head()\n",
    "        return data"
   ]
  },
  {
   "cell_type": "code",
   "execution_count": 16,
   "metadata": {
    "collapsed": false
   },
   "outputs": [
    {
     "name": "stdout",
     "output_type": "stream",
     "text": [
      "data/course_article.csv\n"
     ]
    },
    {
     "ename": "CParserError",
     "evalue": "Error tokenizing data. C error: Expected 3339 fields in line 2, saw 3816\n",
     "output_type": "error",
     "traceback": [
      "\u001b[0;31m---------------------------------------------------------------------------\u001b[0m",
      "\u001b[0;31mCParserError\u001b[0m                              Traceback (most recent call last)",
      "\u001b[0;32m<ipython-input-16-0d4e6203ebfd>\u001b[0m in \u001b[0;36m<module>\u001b[0;34m()\u001b[0m\n\u001b[0;32m----> 1\u001b[0;31m \u001b[0mprintFile\u001b[0m\u001b[0;34m(\u001b[0m\u001b[0;34m\"data/course_article.csv\"\u001b[0m\u001b[0;34m)\u001b[0m\u001b[0;34m\u001b[0m\u001b[0m\n\u001b[0m",
      "\u001b[0;32m<ipython-input-14-bd5dfda56183>\u001b[0m in \u001b[0;36mprintFile\u001b[0;34m(filePath)\u001b[0m\n\u001b[1;32m      3\u001b[0m     \u001b[0;32mwith\u001b[0m \u001b[0mopen\u001b[0m\u001b[0;34m(\u001b[0m\u001b[0mfilePath\u001b[0m\u001b[0;34m,\u001b[0m\u001b[0;34m'r'\u001b[0m\u001b[0;34m)\u001b[0m \u001b[0;32mas\u001b[0m \u001b[0mf\u001b[0m\u001b[0;34m:\u001b[0m\u001b[0;34m\u001b[0m\u001b[0m\n\u001b[1;32m      4\u001b[0m         \u001b[0;31m#data = pd.read_csv(f,delim_whitespace=True,header=None,error_bad_lines=False)\u001b[0m\u001b[0;34m\u001b[0m\u001b[0;34m\u001b[0m\u001b[0m\n\u001b[0;32m----> 5\u001b[0;31m         \u001b[0mdata\u001b[0m \u001b[0;34m=\u001b[0m \u001b[0mpd\u001b[0m\u001b[0;34m.\u001b[0m\u001b[0mread_csv\u001b[0m\u001b[0;34m(\u001b[0m\u001b[0mf\u001b[0m\u001b[0;34m,\u001b[0m\u001b[0mdelim_whitespace\u001b[0m\u001b[0;34m=\u001b[0m\u001b[0mTrue\u001b[0m\u001b[0;34m,\u001b[0m\u001b[0mheader\u001b[0m\u001b[0;34m=\u001b[0m\u001b[0mNone\u001b[0m\u001b[0;34m)\u001b[0m\u001b[0;34m\u001b[0m\u001b[0m\n\u001b[0m\u001b[1;32m      6\u001b[0m         \u001b[0;32mprint\u001b[0m \u001b[0;34m\"summary:\\n\"\u001b[0m\u001b[0;34m,\u001b[0m\u001b[0mdata\u001b[0m\u001b[0;34m.\u001b[0m\u001b[0mdescribe\u001b[0m\u001b[0;34m(\u001b[0m\u001b[0;34m)\u001b[0m\u001b[0;34m,\u001b[0m\u001b[0;34m\"\\n\\nhead:\"\u001b[0m\u001b[0;34m\u001b[0m\u001b[0m\n\u001b[1;32m      7\u001b[0m         \u001b[0;32mprint\u001b[0m \u001b[0;34m\"==========================================\\n\"\u001b[0m\u001b[0;34m\u001b[0m\u001b[0m\n",
      "\u001b[0;32m/Users/Wenbo/anaconda/lib/python2.7/site-packages/pandas/io/parsers.pyc\u001b[0m in \u001b[0;36mparser_f\u001b[0;34m(filepath_or_buffer, sep, delimiter, header, names, index_col, usecols, squeeze, prefix, mangle_dupe_cols, dtype, engine, converters, true_values, false_values, skipinitialspace, skiprows, nrows, na_values, keep_default_na, na_filter, verbose, skip_blank_lines, parse_dates, infer_datetime_format, keep_date_col, date_parser, dayfirst, iterator, chunksize, compression, thousands, decimal, lineterminator, quotechar, quoting, escapechar, comment, encoding, dialect, tupleize_cols, error_bad_lines, warn_bad_lines, skipfooter, skip_footer, doublequote, delim_whitespace, as_recarray, compact_ints, use_unsigned, low_memory, buffer_lines, memory_map, float_precision)\u001b[0m\n\u001b[1;32m    644\u001b[0m                     skip_blank_lines=skip_blank_lines)\n\u001b[1;32m    645\u001b[0m \u001b[0;34m\u001b[0m\u001b[0m\n\u001b[0;32m--> 646\u001b[0;31m         \u001b[0;32mreturn\u001b[0m \u001b[0m_read\u001b[0m\u001b[0;34m(\u001b[0m\u001b[0mfilepath_or_buffer\u001b[0m\u001b[0;34m,\u001b[0m \u001b[0mkwds\u001b[0m\u001b[0;34m)\u001b[0m\u001b[0;34m\u001b[0m\u001b[0m\n\u001b[0m\u001b[1;32m    647\u001b[0m \u001b[0;34m\u001b[0m\u001b[0m\n\u001b[1;32m    648\u001b[0m     \u001b[0mparser_f\u001b[0m\u001b[0;34m.\u001b[0m\u001b[0m__name__\u001b[0m \u001b[0;34m=\u001b[0m \u001b[0mname\u001b[0m\u001b[0;34m\u001b[0m\u001b[0m\n",
      "\u001b[0;32m/Users/Wenbo/anaconda/lib/python2.7/site-packages/pandas/io/parsers.pyc\u001b[0m in \u001b[0;36m_read\u001b[0;34m(filepath_or_buffer, kwds)\u001b[0m\n\u001b[1;32m    399\u001b[0m         \u001b[0;32mreturn\u001b[0m \u001b[0mparser\u001b[0m\u001b[0;34m\u001b[0m\u001b[0m\n\u001b[1;32m    400\u001b[0m \u001b[0;34m\u001b[0m\u001b[0m\n\u001b[0;32m--> 401\u001b[0;31m     \u001b[0mdata\u001b[0m \u001b[0;34m=\u001b[0m \u001b[0mparser\u001b[0m\u001b[0;34m.\u001b[0m\u001b[0mread\u001b[0m\u001b[0;34m(\u001b[0m\u001b[0;34m)\u001b[0m\u001b[0;34m\u001b[0m\u001b[0m\n\u001b[0m\u001b[1;32m    402\u001b[0m     \u001b[0mparser\u001b[0m\u001b[0;34m.\u001b[0m\u001b[0mclose\u001b[0m\u001b[0;34m(\u001b[0m\u001b[0;34m)\u001b[0m\u001b[0;34m\u001b[0m\u001b[0m\n\u001b[1;32m    403\u001b[0m     \u001b[0;32mreturn\u001b[0m \u001b[0mdata\u001b[0m\u001b[0;34m\u001b[0m\u001b[0m\n",
      "\u001b[0;32m/Users/Wenbo/anaconda/lib/python2.7/site-packages/pandas/io/parsers.pyc\u001b[0m in \u001b[0;36mread\u001b[0;34m(self, nrows)\u001b[0m\n\u001b[1;32m    937\u001b[0m                 \u001b[0;32mraise\u001b[0m \u001b[0mValueError\u001b[0m\u001b[0;34m(\u001b[0m\u001b[0;34m'skipfooter not supported for iteration'\u001b[0m\u001b[0;34m)\u001b[0m\u001b[0;34m\u001b[0m\u001b[0m\n\u001b[1;32m    938\u001b[0m \u001b[0;34m\u001b[0m\u001b[0m\n\u001b[0;32m--> 939\u001b[0;31m         \u001b[0mret\u001b[0m \u001b[0;34m=\u001b[0m \u001b[0mself\u001b[0m\u001b[0;34m.\u001b[0m\u001b[0m_engine\u001b[0m\u001b[0;34m.\u001b[0m\u001b[0mread\u001b[0m\u001b[0;34m(\u001b[0m\u001b[0mnrows\u001b[0m\u001b[0;34m)\u001b[0m\u001b[0;34m\u001b[0m\u001b[0m\n\u001b[0m\u001b[1;32m    940\u001b[0m \u001b[0;34m\u001b[0m\u001b[0m\n\u001b[1;32m    941\u001b[0m         \u001b[0;32mif\u001b[0m \u001b[0mself\u001b[0m\u001b[0;34m.\u001b[0m\u001b[0moptions\u001b[0m\u001b[0;34m.\u001b[0m\u001b[0mget\u001b[0m\u001b[0;34m(\u001b[0m\u001b[0;34m'as_recarray'\u001b[0m\u001b[0;34m)\u001b[0m\u001b[0;34m:\u001b[0m\u001b[0;34m\u001b[0m\u001b[0m\n",
      "\u001b[0;32m/Users/Wenbo/anaconda/lib/python2.7/site-packages/pandas/io/parsers.pyc\u001b[0m in \u001b[0;36mread\u001b[0;34m(self, nrows)\u001b[0m\n\u001b[1;32m   1506\u001b[0m     \u001b[0;32mdef\u001b[0m \u001b[0mread\u001b[0m\u001b[0;34m(\u001b[0m\u001b[0mself\u001b[0m\u001b[0;34m,\u001b[0m \u001b[0mnrows\u001b[0m\u001b[0;34m=\u001b[0m\u001b[0mNone\u001b[0m\u001b[0;34m)\u001b[0m\u001b[0;34m:\u001b[0m\u001b[0;34m\u001b[0m\u001b[0m\n\u001b[1;32m   1507\u001b[0m         \u001b[0;32mtry\u001b[0m\u001b[0;34m:\u001b[0m\u001b[0;34m\u001b[0m\u001b[0m\n\u001b[0;32m-> 1508\u001b[0;31m             \u001b[0mdata\u001b[0m \u001b[0;34m=\u001b[0m \u001b[0mself\u001b[0m\u001b[0;34m.\u001b[0m\u001b[0m_reader\u001b[0m\u001b[0;34m.\u001b[0m\u001b[0mread\u001b[0m\u001b[0;34m(\u001b[0m\u001b[0mnrows\u001b[0m\u001b[0;34m)\u001b[0m\u001b[0;34m\u001b[0m\u001b[0m\n\u001b[0m\u001b[1;32m   1509\u001b[0m         \u001b[0;32mexcept\u001b[0m \u001b[0mStopIteration\u001b[0m\u001b[0;34m:\u001b[0m\u001b[0;34m\u001b[0m\u001b[0m\n\u001b[1;32m   1510\u001b[0m             \u001b[0;32mif\u001b[0m \u001b[0mself\u001b[0m\u001b[0;34m.\u001b[0m\u001b[0m_first_chunk\u001b[0m\u001b[0;34m:\u001b[0m\u001b[0;34m\u001b[0m\u001b[0m\n",
      "\u001b[0;32mpandas/parser.pyx\u001b[0m in \u001b[0;36mpandas.parser.TextReader.read (pandas/parser.c:10415)\u001b[0;34m()\u001b[0m\n",
      "\u001b[0;32mpandas/parser.pyx\u001b[0m in \u001b[0;36mpandas.parser.TextReader._read_low_memory (pandas/parser.c:10691)\u001b[0;34m()\u001b[0m\n",
      "\u001b[0;32mpandas/parser.pyx\u001b[0m in \u001b[0;36mpandas.parser.TextReader._read_rows (pandas/parser.c:11437)\u001b[0;34m()\u001b[0m\n",
      "\u001b[0;32mpandas/parser.pyx\u001b[0m in \u001b[0;36mpandas.parser.TextReader._tokenize_rows (pandas/parser.c:11308)\u001b[0;34m()\u001b[0m\n",
      "\u001b[0;32mpandas/parser.pyx\u001b[0m in \u001b[0;36mpandas.parser.raise_parser_error (pandas/parser.c:27037)\u001b[0;34m()\u001b[0m\n",
      "\u001b[0;31mCParserError\u001b[0m: Error tokenizing data. C error: Expected 3339 fields in line 2, saw 3816\n"
     ]
    }
   ],
   "source": [
    "printFile(\"data/course_article.csv\")"
   ]
  },
  {
   "cell_type": "code",
   "execution_count": null,
   "metadata": {
    "collapsed": false
   },
   "outputs": [],
   "source": [
    "for fp in files:\n",
    "    print(fp)\n",
    "    data = printFile(fp)\n",
    "    print(data.head())"
   ]
  },
  {
   "cell_type": "code",
   "execution_count": 33,
   "metadata": {
    "collapsed": false
   },
   "outputs": [
    {
     "ename": "TypeError",
     "evalue": "'Index' object is not callable",
     "output_type": "error",
     "traceback": [
      "\u001b[0;31m---------------------------------------------------------------------------\u001b[0m",
      "\u001b[0;31mTypeError\u001b[0m                                 Traceback (most recent call last)",
      "\u001b[0;32m<ipython-input-33-31f5dce5b69f>\u001b[0m in \u001b[0;36m<module>\u001b[0;34m()\u001b[0m\n\u001b[0;32m----> 1\u001b[0;31m \u001b[0mdata\u001b[0m\u001b[0;34m.\u001b[0m\u001b[0mcolumns\u001b[0m\u001b[0;34m(\u001b[0m\u001b[0;34m)\u001b[0m\u001b[0;34m\u001b[0m\u001b[0m\n\u001b[0m",
      "\u001b[0;31mTypeError\u001b[0m: 'Index' object is not callable"
     ]
    }
   ],
   "source": [
    "data.columns()"
   ]
  },
  {
   "cell_type": "code",
   "execution_count": 10,
   "metadata": {
    "collapsed": false
   },
   "outputs": [
    {
     "data": {
      "text/html": [
       "<div>\n",
       "<table border=\"1\" class=\"dataframe\">\n",
       "  <thead>\n",
       "    <tr style=\"text-align: right;\">\n",
       "      <th></th>\n",
       "      <th>4391\t313\t701\t1</th>\n",
       "    </tr>\n",
       "  </thead>\n",
       "  <tbody>\n",
       "    <tr>\n",
       "      <th>count</th>\n",
       "      <td>103</td>\n",
       "    </tr>\n",
       "    <tr>\n",
       "      <th>unique</th>\n",
       "      <td>103</td>\n",
       "    </tr>\n",
       "    <tr>\n",
       "      <th>top</th>\n",
       "      <td>3778\\t289\\t654\\t2</td>\n",
       "    </tr>\n",
       "    <tr>\n",
       "      <th>freq</th>\n",
       "      <td>1</td>\n",
       "    </tr>\n",
       "  </tbody>\n",
       "</table>\n",
       "</div>"
      ],
      "text/plain": [
       "        4391\\t313\\t701\\t1\n",
       "count                 103\n",
       "unique                103\n",
       "top     3778\\t289\\t654\\t2\n",
       "freq                    1"
      ]
     },
     "execution_count": 10,
     "metadata": {},
     "output_type": "execute_result"
    }
   ],
   "source": [
    "data.describe()"
   ]
  },
  {
   "cell_type": "code",
   "execution_count": null,
   "metadata": {
    "collapsed": true
   },
   "outputs": [],
   "source": []
  }
 ],
 "metadata": {
  "kernelspec": {
   "display_name": "Python 2",
   "language": "python",
   "name": "python2"
  },
  "language_info": {
   "codemirror_mode": {
    "name": "ipython",
    "version": 2
   },
   "file_extension": ".py",
   "mimetype": "text/x-python",
   "name": "python",
   "nbconvert_exporter": "python",
   "pygments_lexer": "ipython2",
   "version": "2.7.13"
  }
 },
 "nbformat": 4,
 "nbformat_minor": 2
}
