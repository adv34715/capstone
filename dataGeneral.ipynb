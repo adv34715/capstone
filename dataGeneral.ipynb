{
 "cells": [
  {
   "cell_type": "code",
   "execution_count": 1,
   "metadata": {
    "collapsed": true
   },
   "outputs": [],
   "source": [
    "import pandas as pd\n",
    "import glob\n",
    "import fnmatch\n",
    "import os\n",
    "import re"
   ]
  },
  {
   "cell_type": "markdown",
   "metadata": {},
   "source": [
    "### To list all the files that I need look through"
   ]
  },
  {
   "cell_type": "code",
   "execution_count": 2,
   "metadata": {
    "collapsed": false
   },
   "outputs": [
    {
     "name": "stdout",
     "output_type": "stream",
     "text": [
      "data/course_article.csv\n",
      "data/course_article_questions.csv\n",
      "data/course_classroom.csv\n",
      "data/course_course.csv\n",
      "data/course_course_units.csv\n",
      "data/course_match.csv\n",
      "data/course_match_student_match.csv\n",
      "data/course_progress.csv\n",
      "data/course_question.csv\n",
      "data/course_questionresponse.csv\n",
      "data/course_questionresponse_new_response.csv\n",
      "data/course_questionresponse_new_subresponse.csv\n",
      "data/course_resource.csv\n",
      "data/course_subquestionresponse.csv\n",
      "data/course_unit.csv\n",
      "data/course_unit_articles.csv\n",
      "data/course_unit_resources.csv\n",
      "data/course_video.csv\n",
      "data/user_app_address.csv\n",
      "data/user_app_customuser.csv\n",
      "data/user_app_customuser_user_permissions.csv\n",
      "data/user_messages_message.csv\n",
      "data/user_messages_room.csv\n",
      "data/user_messages_room_new_message.csv\n",
      "data/user_messages_room_subscribers.csv\n"
     ]
    }
   ],
   "source": [
    "#filePath = ('data/course_*','data/user_*')\n",
    "files = []\n",
    "#for fp in filePath:\n",
    "for filename in glob.glob('data/*.csv'):\n",
    "    print filename\n",
    "    files.append(filename)   "
   ]
  },
  {
   "cell_type": "markdown",
   "metadata": {},
   "source": [
    "### To see what thoes files are"
   ]
  },
  {
   "cell_type": "code",
   "execution_count": 11,
   "metadata": {
    "collapsed": false
   },
   "outputs": [],
   "source": [
    "def printFile(filePath):\n",
    "    with open(filePath,'r') as f:\n",
    "        #data = pd.read_csv(f,delim_whitespace=True,header=None,error_bad_lines=False)\n",
    "        data = pd.read_csv(f)\n",
    "        print \"=================\",filePath,\"=================\"\n",
    "        #print \"summary:\\n\",data.describe(),\"\\n\\nhead:\"\n",
    "        print data.head(),'\\n'\n",
    "        #return data"
   ]
  },
  {
   "cell_type": "code",
   "execution_count": 4,
   "metadata": {
    "collapsed": false,
    "scrolled": false
   },
   "outputs": [
    {
     "name": "stdout",
     "output_type": "stream",
     "text": [
      "================= data/course_article.csv =================\n",
      "    id                                   title  \\\n",
      "0  319                            Introduction   \n",
      "1  308  The Great Barrier Reef Is Under Attack   \n",
      "2    7            Poverty in the United States   \n",
      "3  277               Home Is Where You Find It   \n",
      "4  320                            Introduction   \n",
      "\n",
      "                                            body_one  \\\n",
      "0  <span id=\"docs-internal-guid-57781d2a-9e1b-ad6...   \n",
      "1  <span id=\"docs-internal-guid-93250290-6b09-ebf...   \n",
      "2  <span id=\"docs-internal-guid-78a4a929-94ce-5ca...   \n",
      "3  <span id=\"docs-internal-guid-bcc3614b-7f0f-1c6...   \n",
      "4  <span id=\"docs-internal-guid-63d58086-ad89-8ef...   \n",
      "\n",
      "                                            body_two  \\\n",
      "0  <p dir=\"ltr\" style=\"line-height: 1; margin-top...   \n",
      "1  <span id=\"docs-internal-guid-831a1ae8-6b0a-38e...   \n",
      "2  <span id=\"docs-internal-guid-42360d9b-94ce-934...   \n",
      "3  <span id=\"docs-internal-guid-6e621374-7f0f-716...   \n",
      "4  <span id=\"docs-internal-guid-b71e7728-ad8a-7ea...   \n",
      "\n",
      "                                          body_three  video_one_id  \\\n",
      "0  <span id=\"docs-internal-guid-681ae4bf-ad8f-081...           168   \n",
      "1  <span id=\"docs-internal-guid-e9079529-9506-bc0...           156   \n",
      "2  <span id=\"docs-internal-guid-c15e05aa-94ce-c5c...             2   \n",
      "3  <span id=\"docs-internal-guid-51ec9133-7f0f-a9e...           131   \n",
      "4  <span id=\"docs-internal-guid-b71e7728-ad8a-7ea...           168   \n",
      "\n",
      "   video_two_id  video_three_id  \n",
      "0           168             168  \n",
      "1           156             156  \n",
      "2             2               2  \n",
      "3           131             131  \n",
      "4           168             168   \n",
      "\n"
     ]
    }
   ],
   "source": [
    "printFile(files[0])"
   ]
  },
  {
   "cell_type": "markdown",
   "metadata": {},
   "source": [
    "### result analyis:\n",
    "This is all about the course articles, it is not useful by now. But I think some keywords in the article may be useful. But right now I am not going to use this file."
   ]
  },
  {
   "cell_type": "code",
   "execution_count": 5,
   "metadata": {
    "collapsed": false
   },
   "outputs": [
    {
     "name": "stdout",
     "output_type": "stream",
     "text": [
      "================= data/course_article_questions.csv =================\n",
      "     id  article_id  question_id  sort_value\n",
      "0  4391         313          701           1\n",
      "1  4396         284          715           1\n",
      "2  4431         323          730           1\n",
      "3  4337         310          727           1\n",
      "4  4342         309          726           1 \n",
      "\n"
     ]
    }
   ],
   "source": [
    "printFile(files[1])"
   ]
  },
  {
   "cell_type": "markdown",
   "metadata": {},
   "source": [
    "### result analyis:\n",
    "This is about the course articles, it is not useful by now. And I dont't know the what is sort_value."
   ]
  },
  {
   "cell_type": "code",
   "execution_count": 6,
   "metadata": {
    "collapsed": false
   },
   "outputs": [
    {
     "name": "stdout",
     "output_type": "stream",
     "text": [
      "================= data/course_classroom.csv =================\n",
      "     id                          name    code  teacher_id  \\\n",
      "0    43                    Las Cuevas  8XvVw2          87   \n",
      "1  1910            Cub Scout pack 105  du4Tko       17971   \n",
      "2  1739        Ms. Reeves' Lead Class  pJ676X       16580   \n",
      "3  1672         8th Grade ELA - green  ysbP6c       15945   \n",
      "4  1548  Mrs. Millwood's CREATE Class  A0dHeb       15420   \n",
      "\n",
      "                                     description  course_id         skill  \\\n",
      "0  Passionate, Loves to Discuss/Debate, Curious,          1  Intermediate   \n",
      "1                                            NaN         11      Beginner   \n",
      "2                                            NaN          1  Intermediate   \n",
      "3                                            NaN         11  Intermediate   \n",
      "4                                            NaN         11      Beginner   \n",
      "\n",
      "              country     state target_start_date  points  \n",
      "0  Dominican Republic  La Vega         2015-01-12      25  \n",
      "1       United States        IN        2015-08-30       0  \n",
      "2       United States        AL        2015-08-24       0  \n",
      "3       United States        SC        2015-09-06       0  \n",
      "4       United States        GA        2015-08-20       0   \n",
      "\n"
     ]
    }
   ],
   "source": [
    "printFile(files[2])"
   ]
  },
  {
   "cell_type": "markdown",
   "metadata": {},
   "source": [
    "### result analysis:\n",
    "very useful information. But a few colunms need a clear explaination:\n",
    "    1) id\n",
    "    2) code\n",
    "    3) points"
   ]
  },
  {
   "cell_type": "code",
   "execution_count": 7,
   "metadata": {
    "collapsed": false
   },
   "outputs": [
    {
     "name": "stdout",
     "output_type": "stream",
     "text": [
      "================= data/course_course.csv =================\n",
      "   id                       name                       slug  \\\n",
      "0  19            A World of Food            a-world-of-food   \n",
      "1  17           Argument Writing           argument-writing   \n",
      "2   1                World News                  world-news   \n",
      "3  11             World Explorer             world-explorer   \n",
      "4  15  The World Through My Eyes  the-world-through-my-eyes   \n",
      "\n",
      "                                         description  \\\n",
      "0  Students from around the world connect to stud...   \n",
      "1  Students from across the United States connect...   \n",
      "2  Connects English speakers and learners to stud...   \n",
      "3  Our most popular course connects students to l...   \n",
      "4  Students connect to explore stories from aroun...   \n",
      "\n",
      "                                        announcement hide  \\\n",
      "0  Practice language skills and discover the worl...    t   \n",
      "1  Practice language skills and discover the worl...    t   \n",
      "2   Practice language skills and discover the world.    t   \n",
      "3  Explore global cultures with PenPals from arou...    f   \n",
      "4  Learn about global issues with PenPals from ar...    f   \n",
      "\n",
      "                                         banner  \\\n",
      "0      course/19/12_02_2015_23_07_32_ng (1).jpg   \n",
      "1      course/17/01_19_2016_21_35_24_.49 PM.png   \n",
      "2        course/1/10_12_2015_14_54_13_solar.jpg   \n",
      "3  course/11/World_Explorer_Star_Sticker_v2.png   \n",
      "4      course/15/01_27_2016_12_59_57_1 copy.jpg   \n",
      "\n",
      "                                          body_three  order  \\\n",
      "0                                                NaN    100   \n",
      "1                                                NaN    100   \n",
      "2                                                NaN    100   \n",
      "3  <span id=\"docs-internal-guid-079be767-46a4-06f...      1   \n",
      "4  <span id=\"docs-internal-guid-079be767-46ab-148...      3   \n",
      "\n",
      "                                            facebook  \\\n",
      "0                                                NaN   \n",
      "1                                                NaN   \n",
      "2                                                NaN   \n",
      "3  <div class=\"fb-share-button\" data-href=\"https:...   \n",
      "4  <div class=\"fb-share-button\" data-href=\"https:...   \n",
      "\n",
      "                                             twitter  \n",
      "0                                                NaN  \n",
      "1                                                NaN  \n",
      "2                                                NaN  \n",
      "3  <a href=\"https://twitter.com/share\" class=\"twi...  \n",
      "4  <a href=\"https://twitter.com/share\" class=\"twi...   \n",
      "\n"
     ]
    }
   ],
   "source": [
    "printFile(files[3])"
   ]
  },
  {
   "cell_type": "markdown",
   "metadata": {},
   "source": [
    "### result analysis\n",
    "Course Id is used in course_classroom."
   ]
  },
  {
   "cell_type": "code",
   "execution_count": 41,
   "metadata": {
    "collapsed": false
   },
   "outputs": [
    {
     "name": "stdout",
     "output_type": "stream",
     "text": [
      "================= data/course_course_units.csv =================\n",
      "     id  course_id  unit_id  sort_value\n",
      "0  3586         11       92           1\n",
      "1  3587         11       40           2\n",
      "2  3588         11       39           3\n",
      "3  3589         11       41           4\n",
      "4  3590         11       42           5 \n",
      "\n"
     ]
    }
   ],
   "source": [
    "printFile(files[4])"
   ]
  },
  {
   "cell_type": "markdown",
   "metadata": {},
   "source": [
    "### result analysis:\n",
    "What is id, unit_id?"
   ]
  },
  {
   "cell_type": "code",
   "execution_count": 8,
   "metadata": {
    "collapsed": false
   },
   "outputs": [
    {
     "name": "stdout",
     "output_type": "stream",
     "text": [
      "================= data/course_match.csv =================\n",
      "      id  student_id  classroom_id  \\\n",
      "0  97395      123884        8253.0   \n",
      "1  99041      125418        7989.0   \n",
      "2  12327       17867        1998.0   \n",
      "3  12632       18857        1911.0   \n",
      "4  45091       60318        4072.0   \n",
      "\n",
      "                                               intro new_match  age  \\\n",
      "0                Australia beacause they have coalas         f   13   \n",
      "1       Paris, France because it's the city of love.         f   13   \n",
      "2  We are a free country.\\nWe drink water.\\nWe bo...         t   13   \n",
      "3                                                NaN         t   15   \n",
      "4                                Watch a hockey game         t   10   \n",
      "\n",
      "  course_start_date target_start_date  course_id         skill state  \\\n",
      "0        2017-01-09        2017-01-09         15  Intermediate   NaN   \n",
      "1        2017-01-09        2017-01-09         14  Intermediate    FL   \n",
      "2        2015-05-25        2015-08-31          1      Beginner    AL   \n",
      "3               NaN        2015-08-31          1      Beginner    TX   \n",
      "4        2016-02-01        2016-01-18         11      Beginner    OR   \n",
      "\n",
      "         country                       activity  points pledge  \n",
      "0        Denmark  2017-01-26 09:03:08.858457+00     300      t  \n",
      "1  United States  2017-01-25 19:19:34.060776+00     300      t  \n",
      "2  United States  2015-08-30 19:15:09.928069+00     150      f  \n",
      "3  United States  2015-08-30 19:14:26.770596+00       0      f  \n",
      "4  United States   2016-01-29 20:15:01.09436+00     100      f   \n",
      "\n"
     ]
    }
   ],
   "source": [
    "printFile(files[5])"
   ]
  },
  {
   "cell_type": "markdown",
   "metadata": {},
   "source": [
    "### result analysis:\n",
    "The data I can use. students' data: \n",
    "<ol> \n",
    "    <li> student_id</li>\n",
    "    <li>classroom_id </li>\n",
    "    <li>intro</li>\n",
    "    <li>new_match</li>\n",
    "    <li>...</li>\n",
    "</ol>"
   ]
  },
  {
   "cell_type": "code",
   "execution_count": 43,
   "metadata": {
    "collapsed": false
   },
   "outputs": [
    {
     "name": "stdout",
     "output_type": "stream",
     "text": [
      "================= data/course_match_student_match.csv =================\n",
      "       id  from_match_id  to_match_id\n",
      "0   74020          20091        20022\n",
      "1   28728          11719        11728\n",
      "2   74021          20022        20091\n",
      "3   28730          11728        11719\n",
      "4  115482          29562        29580 \n",
      "\n"
     ]
    }
   ],
   "source": [
    "printFile(files[6])"
   ]
  },
  {
   "cell_type": "markdown",
   "metadata": {},
   "source": [
    "### result analysis:\n",
    "This is the matching between students."
   ]
  },
  {
   "cell_type": "code",
   "execution_count": 12,
   "metadata": {
    "collapsed": false
   },
   "outputs": [
    {
     "name": "stdout",
     "output_type": "stream",
     "text": [
      "================= data/course_progress.csv =================\n",
      "       id  match_id  unit_id  progress_one\n",
      "0  419694     69994       38             0\n",
      "1  419696     69994       37             0\n",
      "2  419697     69994       36             0\n",
      "3  419698     69994       35             0\n",
      "4  419699     69994       45             0 \n",
      "\n"
     ]
    }
   ],
   "source": [
    "printFile(files[7])"
   ]
  },
  {
   "cell_type": "markdown",
   "metadata": {},
   "source": [
    "### result analyis:\n",
    "This is about the progress of the course."
   ]
  },
  {
   "cell_type": "code",
   "execution_count": 13,
   "metadata": {
    "collapsed": false
   },
   "outputs": [
    {
     "name": "stdout",
     "output_type": "stream",
     "text": [
      "================= data/course_question.csv =================\n",
      "   id                                           text_one  \\\n",
      "0   2  How could using alternative energy sources be ...   \n",
      "1   3  Do you think that using pistachio nut shells i...   \n",
      "2   4  Ask your PenPal a question about the environme...   \n",
      "3   6  Thankfully, children in the USA are not forced...   \n",
      "4   7  According to the article, some children choose...   \n",
      "\n",
      "                                            text_two  \\\n",
      "0  How could using alternative energy sources be ...   \n",
      "1  Do you think that projects like Turkey’s “eco-...   \n",
      "2  Ask your PenPal a question about the environme...   \n",
      "3  Thankfully, children in the USA are not forced...   \n",
      "4  According to the article, some children choose...   \n",
      "\n",
      "                                          text_three  \n",
      "0  How could using alternative energy sources be ...  \n",
      "1  According to the article, “skeptics doubt thes...  \n",
      "2  Ask your PenPal a question about the environme...  \n",
      "3  Thankfully, children in the USA are not forced...  \n",
      "4  According to the article, some children join I...   \n",
      "\n"
     ]
    }
   ],
   "source": [
    "printFile(files[8])"
   ]
  },
  {
   "cell_type": "markdown",
   "metadata": {},
   "source": [
    "### result analyis:\n",
    "This is about the questions of the course."
   ]
  },
  {
   "cell_type": "code",
   "execution_count": 14,
   "metadata": {
    "collapsed": false
   },
   "outputs": [
    {
     "name": "stdout",
     "output_type": "stream",
     "text": [
      "================= data/course_questionresponse.csv =================\n",
      "       id                        created                       modified  \\\n",
      "0       2  2015-01-12 18:31:50.344312+00  2015-01-12 18:31:54.440605+00   \n",
      "1       5  2015-01-12 18:32:37.276155+00  2015-01-12 18:32:37.282585+00   \n",
      "2       6  2015-01-12 18:33:19.903515+00  2015-01-12 18:33:19.934264+00   \n",
      "3  172014   2015-11-17 17:12:30.96388+00  2015-11-17 17:12:30.964101+00   \n",
      "4       8  2015-01-12 18:33:47.394602+00  2015-01-12 18:33:47.401315+00   \n",
      "\n",
      "   match_id  question_id                                               text  \\\n",
      "0      2711         93.0                  global warning is melting the ice   \n",
      "1      2728         93.0       cuse theres camicle wast going in to the air   \n",
      "2      2711         92.0  i would save them by giving them proper needs ...   \n",
      "3     21614        607.0  There would be a picture of me playing shortst...   \n",
      "4      2728         92.0  stop and pick some up so they canlive longer a...   \n",
      "\n",
      "   unit_id  \n",
      "0      1.0  \n",
      "1      1.0  \n",
      "2      1.0  \n",
      "3      6.0  \n",
      "4      1.0   \n",
      "\n"
     ]
    }
   ],
   "source": [
    "printFile(files[9])"
   ]
  },
  {
   "cell_type": "markdown",
   "metadata": {},
   "source": [
    "### result analyis:\n",
    "This is about the students responses. Useful information."
   ]
  },
  {
   "cell_type": "code",
   "execution_count": 15,
   "metadata": {
    "collapsed": false
   },
   "outputs": [
    {
     "name": "stdout",
     "output_type": "stream",
     "text": [
      "================= data/course_questionresponse_new_response.csv =================\n",
      "       id  questionresponse_id  match_id\n",
      "0       1               380280     67460\n",
      "1  399166               498955     90419\n",
      "2   96433               406595     64826\n",
      "3  115378               411807     76649\n",
      "4  115379               411807     72798 \n",
      "\n"
     ]
    }
   ],
   "source": [
    "printFile(files[10])"
   ]
  },
  {
   "cell_type": "code",
   "execution_count": 16,
   "metadata": {
    "collapsed": false,
    "scrolled": true
   },
   "outputs": [
    {
     "name": "stdout",
     "output_type": "stream",
     "text": [
      "================= data/course_questionresponse_new_subresponse.csv =================\n",
      "      id  questionresponse_id  match_id\n",
      "0  25419               391297     66962\n",
      "1      2               379775     70537\n",
      "2  25420               391297     67053\n",
      "3  71916               435442     82687\n",
      "4  25422               391297     67388 \n",
      "\n"
     ]
    }
   ],
   "source": [
    "printFile(files[11])"
   ]
  },
  {
   "cell_type": "markdown",
   "metadata": {},
   "source": [
    "### result analyis:\n",
    "These two are about the students responses. Useful information."
   ]
  },
  {
   "cell_type": "code",
   "execution_count": 17,
   "metadata": {
    "collapsed": false
   },
   "outputs": [
    {
     "name": "stdout",
     "output_type": "stream",
     "text": [
      "================= data/course_resource.csv =================\n",
      "   id                                          dashboard  \\\n",
      "0  21  Learn more about popular culture around the wo...   \n",
      "1   7  Download and print the \"Young Heroes\" Class Ac...   \n",
      "2   9  Download and print the \"Meet the PenPals\" Clas...   \n",
      "3   8  Download and print the \"Mystery PenPal\" Class ...   \n",
      "4  18   Download the World Through My Eyes Course Rubric   \n",
      "\n",
      "                                              dialog  \\\n",
      "0  Follow this link to our bonus videos about pop...   \n",
      "1  The final week's Class Activity helps students...   \n",
      "2  Meet the PenPals is a great way to help studen...   \n",
      "3  Mystery PenPal is a fun way for students to pr...   \n",
      "4  This course specific rubric helps students rec...   \n",
      "\n",
      "                          link_one  \\\n",
      "0  https://vimeo.com/album/4293309   \n",
      "1                              NaN   \n",
      "2                              NaN   \n",
      "3                              NaN   \n",
      "4                              NaN   \n",
      "\n",
      "                                            file_one  \n",
      "0                                                NaN  \n",
      "1         resource/7/PrintableLesson_YoungHeroes.pdf  \n",
      "2          resource/9/ClassActivity_Meet PenPals.pdf  \n",
      "3     resource/8/PPS_ClassActivity_MysteryPenPal.pdf  \n",
      "4  resource/18/PenPalSchools_TheWorldThroughMyEye...   \n",
      "\n"
     ]
    }
   ],
   "source": [
    "printFile(files[12])"
   ]
  },
  {
   "cell_type": "markdown",
   "metadata": {},
   "source": [
    "### result analyis:\n",
    "This is about the cource resources. "
   ]
  },
  {
   "cell_type": "code",
   "execution_count": 18,
   "metadata": {
    "collapsed": false
   },
   "outputs": [
    {
     "name": "stdout",
     "output_type": "stream",
     "text": [
      "================= data/course_subquestionresponse.csv =================\n",
      "   id                        created                       modified  match_id  \\\n",
      "0   1  2015-08-18 14:39:04.842977+00  2015-08-18 14:39:04.845993+00      9978   \n",
      "1   2  2015-08-18 14:41:57.089341+00  2015-08-18 14:41:57.092381+00      9978   \n",
      "2   8  2015-08-20 17:17:55.361397+00  2015-08-20 17:17:55.364388+00     10136   \n",
      "3   9  2015-09-10 21:58:09.592454+00  2015-09-10 21:58:09.595085+00     14074   \n",
      "4  13  2015-09-25 18:17:47.240061+00  2015-09-25 18:17:47.242734+00     16263   \n",
      "\n",
      "   response_id                                               text  \n",
      "0        55940  Russia has the highest obesity rate in the wor...  \n",
      "1        55941  Youre right there are some good Russian restau...  \n",
      "2        56281  I agree. When the British colonized Kenya they...  \n",
      "3        59145  I agree, many people care about wildlife and a...  \n",
      "4        72430  I honestly believe that people don't/won't pro...   \n",
      "\n"
     ]
    }
   ],
   "source": [
    "printFile(files[13])"
   ]
  },
  {
   "cell_type": "markdown",
   "metadata": {},
   "source": [
    "### result analyis:\n",
    "This is about the students sub-responses. Useful information. Related to course_questionresponse (10th csv file)."
   ]
  },
  {
   "cell_type": "code",
   "execution_count": 19,
   "metadata": {
    "collapsed": false
   },
   "outputs": [
    {
     "name": "stdout",
     "output_type": "stream",
     "text": [
      "================= data/course_unit.csv =================\n",
      "   id               name\n",
      "0  86      Saving Rhinos\n",
      "1  87  Queen of the Deep\n",
      "2  38          Education\n",
      "3  34        The Economy\n",
      "4  37        Immigration \n",
      "\n"
     ]
    }
   ],
   "source": [
    "printFile(files[14])"
   ]
  },
  {
   "cell_type": "code",
   "execution_count": 20,
   "metadata": {
    "collapsed": false
   },
   "outputs": [
    {
     "name": "stdout",
     "output_type": "stream",
     "text": [
      "================= data/course_unit_articles.csv =================\n",
      "     id  unit_id  article_id\n",
      "0  1811       41         316\n",
      "1  1813       43         317\n",
      "2  1737       54         273\n",
      "3  1739       56         275\n",
      "4  1831       52         271 \n",
      "\n"
     ]
    }
   ],
   "source": [
    "printFile(files[15])"
   ]
  },
  {
   "cell_type": "code",
   "execution_count": 21,
   "metadata": {
    "collapsed": false
   },
   "outputs": [
    {
     "name": "stdout",
     "output_type": "stream",
     "text": [
      "================= data/course_unit_resources.csv =================\n",
      "    id  unit_id  resource_id  sort_value\n",
      "0  102       53           16           1\n",
      "1  103       54           16           1\n",
      "2  104       55           16           1\n",
      "3  105       56           16           1\n",
      "4  106       57           12           1 \n",
      "\n"
     ]
    }
   ],
   "source": [
    "printFile(files[16])"
   ]
  },
  {
   "cell_type": "code",
   "execution_count": 22,
   "metadata": {
    "collapsed": false
   },
   "outputs": [
    {
     "name": "stdout",
     "output_type": "stream",
     "text": [
      "================= data/course_video.csv =================\n",
      "    id           title   video_id\n",
      "0  168  Learn Together  166889718\n",
      "1    5      Government   48746998\n",
      "2    2         Poverty   54955691\n",
      "3    3      Technology   54955862\n",
      "4    4  War & Conflict   55948298 \n",
      "\n"
     ]
    }
   ],
   "source": [
    "printFile(files[17])"
   ]
  },
  {
   "cell_type": "markdown",
   "metadata": {},
   "source": [
    "### result analyis:\n",
    "This is about the course resource. Not useful."
   ]
  },
  {
   "cell_type": "code",
   "execution_count": 23,
   "metadata": {
    "collapsed": false,
    "scrolled": true
   },
   "outputs": [
    {
     "name": "stdout",
     "output_type": "stream",
     "text": [
      "================= data/user_app_address.csv =================\n",
      "   id street_line1 street_line2 zipcode     city     state          country  \\\n",
      "0   2          NaN          NaN     NaN       SF       CA    United States    \n",
      "1   3          NaN          NaN     NaN  Watford  England   United Kingdom    \n",
      "2   4          NaN          NaN     NaN   Austin       TX    United States    \n",
      "3   5          NaN          NaN     NaN   Austin       TX    United States    \n",
      "4   6          NaN          NaN     NaN       CF       NaN       Argentina    \n",
      "\n",
      "             formatted_address        lat         lng  \n",
      "0      San Francisco, CA, USA   37.774929 -122.419415  \n",
      "1  Watford, Hertfordshire, UK   51.656489   -0.390320  \n",
      "2             Austin, TX, USA   30.267153  -97.743061  \n",
      "3             Austin, TX, USA   30.267153  -97.743061  \n",
      "4     Buenos Aires, Argentina  -34.603684  -58.381559   \n",
      "\n"
     ]
    },
    {
     "name": "stderr",
     "output_type": "stream",
     "text": [
      "/Users/Wenbo/anaconda/lib/python2.7/site-packages/IPython/core/interactiveshell.py:2827: DtypeWarning: Columns (2) have mixed types. Specify dtype option on import or set low_memory=False.\n",
      "  if self.run_code(code, result):\n"
     ]
    }
   ],
   "source": [
    "printFile(files[18])"
   ]
  },
  {
   "cell_type": "markdown",
   "metadata": {},
   "source": [
    "### result analyis:\n",
    "This is about the students address. Useful information. "
   ]
  },
  {
   "cell_type": "code",
   "execution_count": 24,
   "metadata": {
    "collapsed": false
   },
   "outputs": [
    {
     "name": "stdout",
     "output_type": "stream",
     "text": [
      "================= data/user_app_customuser.csv =================\n",
      "                                            password  \\\n",
      "0  pbkdf2_sha256$12000$Wf2vl1BrW9WX$ZfVHGrNWLRq6D...   \n",
      "1  pbkdf2_sha256$12000$cPQMz5fraEOn$1OsUaJ0VVtoaR...   \n",
      "2  pbkdf2_sha256$12000$cEHyyRBX7on0$qWWTL9NIJSRhT...   \n",
      "3  pbkdf2_sha256$12000$AndikQI7dHS2$LPNBYi3YTk/5c...   \n",
      "4  pbkdf2_sha256$12000$rwSFwTZ6FUnI$rl//4QjOHtJF4...   \n",
      "\n",
      "                      last_login is_superuser     id     username  \\\n",
      "0  2015-01-26 23:17:29.798899+00            f   4950        Sonya   \n",
      "1  2015-01-02 01:35:32.875542+00            f      9      Brankoe   \n",
      "2  2015-01-06 14:36:01.970408+00            f    437  john.porter   \n",
      "3  2015-01-27 15:36:51.889319+00            f   5014     Hannah77   \n",
      "4  2015-04-14 17:21:45.903994+00            f  12093   Mercedes77   \n",
      "\n",
      "                 email first_name last_name gender  tier  \\\n",
      "0  sonyafb@hotmail.com      Sonya  figueroa    NaN     2   \n",
      "1                  NaN     Branko         E      M     1   \n",
      "2                  NaN       John         P      M     1   \n",
      "3                  NaN     Hannah         M    NaN     1   \n",
      "4                  NaN   Mercedes       NaN      F     1   \n",
      "\n",
      "               ...                \\\n",
      "0              ...                 \n",
      "1              ...                 \n",
      "2              ...                 \n",
      "3              ...                 \n",
      "4              ...                 \n",
      "\n",
      "                                                 bio primary_address_id  \\\n",
      "0                                                NaN             4949.0   \n",
      "1                                                NaN                9.0   \n",
      "2                                                NaN              437.0   \n",
      "3  I love to play volleyball, study marine life, ...             5013.0   \n",
      "4                                                NaN            11531.0   \n",
      "\n",
      "   stripe_id is_staff is_active                    date_joined  \\\n",
      "0        NaN        f         t  2015-01-26 23:17:29.798899+00   \n",
      "1        NaN        f         t  2015-01-02 01:35:32.875542+00   \n",
      "2        NaN        f         t  2015-01-06 14:36:01.970408+00   \n",
      "3        NaN        f         t     2015-01-27 15:36:51.889+00   \n",
      "4        NaN        f         t  2015-04-14 17:21:45.903994+00   \n",
      "\n",
      "                             dob email_verified points  \\\n",
      "0  2015-03-20 03:20:34.472988+00              f      0   \n",
      "1  2015-03-20 03:20:34.472988+00              f      0   \n",
      "2  2015-03-20 03:20:34.472988+00              f      0   \n",
      "3  2015-03-20 03:20:34.472988+00              f      0   \n",
      "4         2002-01-01 00:00:00+00              f      0   \n",
      "\n",
      "                    img_activity  \n",
      "0  2016-09-09 04:17:40.075083+00  \n",
      "1  2016-09-09 04:17:40.075083+00  \n",
      "2  2016-09-09 04:17:40.075083+00  \n",
      "3  2016-09-09 04:17:40.075083+00  \n",
      "4  2016-09-09 04:17:40.075083+00  \n",
      "\n",
      "[5 rows x 21 columns] \n",
      "\n"
     ]
    },
    {
     "name": "stderr",
     "output_type": "stream",
     "text": [
      "/Users/Wenbo/anaconda/lib/python2.7/site-packages/IPython/core/interactiveshell.py:2827: DtypeWarning: Columns (13) have mixed types. Specify dtype option on import or set low_memory=False.\n",
      "  if self.run_code(code, result):\n"
     ]
    }
   ],
   "source": [
    "printFile(files[19])"
   ]
  },
  {
   "cell_type": "markdown",
   "metadata": {},
   "source": [
    "### result analyis:\n",
    "This is about the user information. Useful information. Most of data are useful, including when they joined, their bio, first & last name. "
   ]
  },
  {
   "cell_type": "code",
   "execution_count": 25,
   "metadata": {
    "collapsed": false
   },
   "outputs": [
    {
     "name": "stdout",
     "output_type": "stream",
     "text": [
      "================= data/user_app_customuser_user_permissions.csv =================\n",
      "     id  customuser_id  permission_id\n",
      "0  1117             32             80\n",
      "1  1118             32             79\n",
      "2  1078          15640            160\n",
      "3  1079          15640            161\n",
      "4  1080          15640            162 \n",
      "\n"
     ]
    }
   ],
   "source": [
    "printFile(files[20])"
   ]
  },
  {
   "cell_type": "code",
   "execution_count": 26,
   "metadata": {
    "collapsed": false
   },
   "outputs": [
    {
     "name": "stdout",
     "output_type": "stream",
     "text": [
      "================= data/user_messages_message.csv =================\n",
      "   id  room_id                                               body  sender_id  \\\n",
      "0   6        4  Is the government where you live running smoot...       5717   \n",
      "1   7        7  According to the article, Canada scientists fi...       6700   \n",
      "2   8        6  \"According to the article, Canada scientists f...       6699   \n",
      "3   9        7  Imagine you held a place of power in your gove...       6700   \n",
      "4  11        7  Ask your PenPal a question about what the gove...       6700   \n",
      "\n",
      "                         sent_at deleted  \n",
      "0  2015-03-26 23:24:18.314082+00       f  \n",
      "1  2015-03-27 15:20:53.804654+00       f  \n",
      "2  2015-03-27 15:24:46.994541+00       f  \n",
      "3   2015-03-27 15:25:16.21155+00       f  \n",
      "4  2015-03-27 15:28:56.374408+00       f   \n",
      "\n"
     ]
    }
   ],
   "source": [
    "printFile(files[21])"
   ]
  },
  {
   "cell_type": "markdown",
   "metadata": {},
   "source": [
    "### result analyis:\n",
    "User message. What is the different between this and response?"
   ]
  },
  {
   "cell_type": "code",
   "execution_count": 27,
   "metadata": {
    "collapsed": false
   },
   "outputs": [
    {
     "name": "stdout",
     "output_type": "stream",
     "text": [
      "================= data/user_messages_room.csv =================\n",
      "   id                       activity\n",
      "0  19  2015-03-30 01:00:33.882709+00\n",
      "1  20  2015-06-05 14:50:27.266539+00\n",
      "2  21  2015-03-31 20:38:32.156907+00\n",
      "3  39  2015-04-02 19:27:02.028122+00\n",
      "4  23  2015-04-01 17:54:17.566251+00 \n",
      "\n"
     ]
    }
   ],
   "source": [
    "printFile(files[22])"
   ]
  },
  {
   "cell_type": "markdown",
   "metadata": {},
   "source": [
    "### result analyis:\n",
    "Not useful? What mean activity?"
   ]
  },
  {
   "cell_type": "code",
   "execution_count": 28,
   "metadata": {
    "collapsed": false
   },
   "outputs": [
    {
     "name": "stdout",
     "output_type": "stream",
     "text": [
      "================= data/user_messages_room_new_message.csv =================\n",
      "     id  room_id  customuser_id\n",
      "0   303      348          10059\n",
      "1   736      181          10127\n",
      "2  4637     1497          16472\n",
      "3  2817     1052           8774\n",
      "4  2223      906           8554 \n",
      "\n"
     ]
    }
   ],
   "source": [
    "printFile(files[23])"
   ]
  },
  {
   "cell_type": "code",
   "execution_count": 30,
   "metadata": {
    "collapsed": false
   },
   "outputs": [
    {
     "name": "stdout",
     "output_type": "stream",
     "text": [
      "================= data/user_messages_room_subscribers.csv =================\n",
      "   id  room_id  customuser_id\n",
      "0   7        4           5717\n",
      "1   8        4           8366\n",
      "2   9        5           6689\n",
      "3  10        5           6269\n",
      "4  11        6           6699 \n",
      "\n"
     ]
    }
   ],
   "source": [
    "printFile(files[24])"
   ]
  },
  {
   "cell_type": "markdown",
   "metadata": {},
   "source": [
    "### result analyis:\n",
    "What is the difference between this and former one(messages_room_new_message)?"
   ]
  },
  {
   "cell_type": "code",
   "execution_count": null,
   "metadata": {
    "collapsed": false
   },
   "outputs": [],
   "source": []
  },
  {
   "cell_type": "code",
   "execution_count": null,
   "metadata": {
    "collapsed": true
   },
   "outputs": [],
   "source": []
  }
 ],
 "metadata": {
  "kernelspec": {
   "display_name": "Python 2",
   "language": "python",
   "name": "python2"
  },
  "language_info": {
   "codemirror_mode": {
    "name": "ipython",
    "version": 2
   },
   "file_extension": ".py",
   "mimetype": "text/x-python",
   "name": "python",
   "nbconvert_exporter": "python",
   "pygments_lexer": "ipython2",
   "version": "2.7.13"
  }
 },
 "nbformat": 4,
 "nbformat_minor": 2
}
