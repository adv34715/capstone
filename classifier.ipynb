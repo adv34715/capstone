{
 "cells": [
  {
   "cell_type": "code",
   "execution_count": 1,
   "metadata": {
    "collapsed": false
   },
   "outputs": [
    {
     "name": "stderr",
     "output_type": "stream",
     "text": [
      "/Users/yimengz/anaconda/lib/python3.6/site-packages/sklearn/cross_validation.py:44: DeprecationWarning: This module was deprecated in version 0.18 in favor of the model_selection module into which all the refactored classes and functions are moved. Also note that the interface of the new CV iterators are different from that of this module. This module will be removed in 0.20.\n",
      "  \"This module will be removed in 0.20.\", DeprecationWarning)\n",
      "/Users/yimengz/anaconda/lib/python3.6/site-packages/sklearn/grid_search.py:43: DeprecationWarning: This module was deprecated in version 0.18 in favor of the model_selection module into which all the refactored classes and functions are moved. This module will be removed in 0.20.\n",
      "  DeprecationWarning)\n"
     ]
    }
   ],
   "source": [
    "import pandas as pd\n",
    "import numpy as np\n",
    "from matplotlib import pyplot as plt\n",
    "%matplotlib inline \n",
    "\n",
    "from sklearn import metrics\n",
    "from sklearn.cross_validation import train_test_split\n",
    "from sklearn.grid_search import ParameterGrid\n",
    "from sklearn.linear_model import SGDClassifier\n",
    "from sklearn.linear_model import LogisticRegression\n",
    "from sklearn.tree import DecisionTreeClassifier\n",
    "from sklearn.linear_model import SGDClassifier\n",
    "from sklearn.linear_model import LogisticRegression\n",
    "from sklearn.ensemble import RandomForestClassifier\n",
    "from sklearn.cross_validation import cross_val_score\n",
    "from sklearn.feature_selection import SelectFromModel\n",
    "from sklearn.cross_validation import train_test_split\n",
    "from sklearn.neural_network import BernoulliRBM\n",
    "from sklearn.pipeline import Pipeline\n",
    "from sklearn.metrics import roc_curve, auc, roc_auc_score\n",
    "from sklearn.utils import shuffle\n",
    "from sklearn.svm import SVC\n",
    "import pylab as pl\n",
    "from sklearn.metrics import mean_squared_error, accuracy_score\n",
    "from sklearn.grid_search import GridSearchCV\n",
    "from sklearn.grid_search import ParameterGrid\n",
    "from scipy import interp\n",
    "from sklearn.cross_validation import StratifiedKFold\n",
    "import math\n",
    "import sys\n",
    "import itertools\n",
    "from operator import itemgetter\n",
    "from sklearn.feature_selection import RFECV\n",
    "import random\n",
    "import warnings\n",
    "warnings.filterwarnings('ignore')"
   ]
  },
  {
   "cell_type": "code",
   "execution_count": 55,
   "metadata": {
    "collapsed": false
   },
   "outputs": [],
   "source": [
    "a = pd.read_csv('userCombFin3.csv') "
   ]
  },
  {
   "cell_type": "code",
   "execution_count": 56,
   "metadata": {
    "collapsed": false
   },
   "outputs": [
    {
     "data": {
      "text/plain": [
       "array(['last_login', 'id', 'username', 'email', 'first_name', 'last_name',\n",
       "       'gender', 'tier', 'img_upload', 'bio', 'stripe', 'is_staff',\n",
       "       'is_active', 'date_joined', 'Unnamed: 15', 'dob', 'email_verified',\n",
       "       'img_activity', 'street_line1', 'street_line2', 'zipcode', 'city',\n",
       "       'state', 'country', 'img_def', 'no_email', 'street1', 'street2'], dtype=object)"
      ]
     },
     "execution_count": 56,
     "metadata": {},
     "output_type": "execute_result"
    }
   ],
   "source": [
    "a.drop('Unnamed: 0', axis = 1, inplace = True)\n",
    "a.columns.values"
   ]
  },
  {
   "cell_type": "code",
   "execution_count": 58,
   "metadata": {
    "collapsed": false
   },
   "outputs": [],
   "source": [
    "a = a[['id','first_name', 'last_name', 'gender', 'tier','Unnamed: 15','dob', 'img_upload', 'bio','stripe', 'is_staff', 'is_active', 'email_verified', 'img_def', 'no_email', 'street1', 'street2']]"
   ]
  },
  {
   "cell_type": "code",
   "execution_count": 59,
   "metadata": {
    "collapsed": false
   },
   "outputs": [],
   "source": [
    "a.rename(columns={'Unnamed: 15': 'dob2'},inplace=True)"
   ]
  },
  {
   "cell_type": "code",
   "execution_count": 61,
   "metadata": {
    "collapsed": false
   },
   "outputs": [],
   "source": [
    "a.dob2.fillna(0,inplace=True)"
   ]
  },
  {
   "cell_type": "code",
   "execution_count": 62,
   "metadata": {
    "collapsed": false
   },
   "outputs": [
    {
     "data": {
      "text/plain": [
       "str"
      ]
     },
     "execution_count": 62,
     "metadata": {},
     "output_type": "execute_result"
    }
   ],
   "source": [
    "type(a.dob[1])"
   ]
  },
  {
   "cell_type": "code",
   "execution_count": 65,
   "metadata": {
    "collapsed": false
   },
   "outputs": [
    {
     "name": "stdout",
     "output_type": "stream",
     "text": [
      "0 <class 'int'>\n",
      "0 <class 'int'>\n",
      "0 <class 'int'>\n",
      "0 <class 'int'>\n",
      "0 <class 'int'>\n"
     ]
    }
   ],
   "source": [
    "for i in a.dob[:5]:\n",
    "    i=0\n",
    "    print(i,type(i))"
   ]
  },
  {
   "cell_type": "code",
   "execution_count": 66,
   "metadata": {
    "collapsed": false
   },
   "outputs": [],
   "source": [
    "userComb = pd.read_csv('userCombFin2.csv') "
   ]
  },
  {
   "cell_type": "code",
   "execution_count": 67,
   "metadata": {
    "collapsed": true
   },
   "outputs": [],
   "source": [
    "userComb.drop('Unnamed: 0', axis = 1, inplace = True)"
   ]
  },
  {
   "cell_type": "code",
   "execution_count": 68,
   "metadata": {
    "collapsed": false
   },
   "outputs": [
    {
     "data": {
      "text/html": [
       "<div>\n",
       "<table border=\"1\" class=\"dataframe\">\n",
       "  <thead>\n",
       "    <tr style=\"text-align: right;\">\n",
       "      <th></th>\n",
       "      <th>last_login</th>\n",
       "      <th>id</th>\n",
       "      <th>username</th>\n",
       "      <th>email</th>\n",
       "      <th>first_name</th>\n",
       "      <th>last_name</th>\n",
       "      <th>gender</th>\n",
       "      <th>tier</th>\n",
       "      <th>img_upload</th>\n",
       "      <th>bio</th>\n",
       "      <th>...</th>\n",
       "      <th>street_line1</th>\n",
       "      <th>street_line2</th>\n",
       "      <th>zipcode</th>\n",
       "      <th>city</th>\n",
       "      <th>state</th>\n",
       "      <th>country</th>\n",
       "      <th>img_def</th>\n",
       "      <th>no_email</th>\n",
       "      <th>street1</th>\n",
       "      <th>street2</th>\n",
       "    </tr>\n",
       "  </thead>\n",
       "  <tbody>\n",
       "    <tr>\n",
       "      <th>0</th>\n",
       "      <td>2017-01-27</td>\n",
       "      <td>1</td>\n",
       "      <td>migueldv90</td>\n",
       "      <td>miguel@penpalschools.com</td>\n",
       "      <td>2</td>\n",
       "      <td>0</td>\n",
       "      <td>1</td>\n",
       "      <td>4</td>\n",
       "      <td>1</td>\n",
       "      <td>9</td>\n",
       "      <td>...</td>\n",
       "      <td>0</td>\n",
       "      <td>0</td>\n",
       "      <td>0</td>\n",
       "      <td>Austin</td>\n",
       "      <td>TX</td>\n",
       "      <td>United States</td>\n",
       "      <td>1</td>\n",
       "      <td>1</td>\n",
       "      <td>0</td>\n",
       "      <td>0</td>\n",
       "    </tr>\n",
       "    <tr>\n",
       "      <th>1</th>\n",
       "      <td>2014-12-31</td>\n",
       "      <td>2</td>\n",
       "      <td>Zhuf</td>\n",
       "      <td>zhuf@sfusd.edu</td>\n",
       "      <td>2</td>\n",
       "      <td>0</td>\n",
       "      <td>0</td>\n",
       "      <td>2</td>\n",
       "      <td>0</td>\n",
       "      <td>0</td>\n",
       "      <td>...</td>\n",
       "      <td>0</td>\n",
       "      <td>0</td>\n",
       "      <td>0</td>\n",
       "      <td>SF</td>\n",
       "      <td>CA</td>\n",
       "      <td>United States</td>\n",
       "      <td>0</td>\n",
       "      <td>1</td>\n",
       "      <td>0</td>\n",
       "      <td>0</td>\n",
       "    </tr>\n",
       "    <tr>\n",
       "      <th>2</th>\n",
       "      <td>2014-12-31</td>\n",
       "      <td>3</td>\n",
       "      <td>oxheywood</td>\n",
       "      <td>mikki.caplan@gmail.com</td>\n",
       "      <td>2</td>\n",
       "      <td>0</td>\n",
       "      <td>0</td>\n",
       "      <td>2</td>\n",
       "      <td>0</td>\n",
       "      <td>0</td>\n",
       "      <td>...</td>\n",
       "      <td>0</td>\n",
       "      <td>0</td>\n",
       "      <td>0</td>\n",
       "      <td>Watford</td>\n",
       "      <td>England</td>\n",
       "      <td>United Kingdom</td>\n",
       "      <td>0</td>\n",
       "      <td>1</td>\n",
       "      <td>0</td>\n",
       "      <td>0</td>\n",
       "    </tr>\n",
       "    <tr>\n",
       "      <th>3</th>\n",
       "      <td>2015-05-24</td>\n",
       "      <td>4</td>\n",
       "      <td>mimobrow</td>\n",
       "      <td>0</td>\n",
       "      <td>2</td>\n",
       "      <td>0</td>\n",
       "      <td>0</td>\n",
       "      <td>1</td>\n",
       "      <td>0</td>\n",
       "      <td>0</td>\n",
       "      <td>...</td>\n",
       "      <td>0</td>\n",
       "      <td>0</td>\n",
       "      <td>0</td>\n",
       "      <td>Austin</td>\n",
       "      <td>TX</td>\n",
       "      <td>United States</td>\n",
       "      <td>0</td>\n",
       "      <td>0</td>\n",
       "      <td>0</td>\n",
       "      <td>0</td>\n",
       "    </tr>\n",
       "    <tr>\n",
       "      <th>4</th>\n",
       "      <td>2017-01-07</td>\n",
       "      <td>5</td>\n",
       "      <td>joetroyen</td>\n",
       "      <td>joe@penpalschools.com</td>\n",
       "      <td>2</td>\n",
       "      <td>0</td>\n",
       "      <td>0</td>\n",
       "      <td>4</td>\n",
       "      <td>1</td>\n",
       "      <td>2</td>\n",
       "      <td>...</td>\n",
       "      <td>0</td>\n",
       "      <td>0</td>\n",
       "      <td>0</td>\n",
       "      <td>Austin</td>\n",
       "      <td>TX</td>\n",
       "      <td>United States</td>\n",
       "      <td>1</td>\n",
       "      <td>1</td>\n",
       "      <td>0</td>\n",
       "      <td>0</td>\n",
       "    </tr>\n",
       "  </tbody>\n",
       "</table>\n",
       "<p>5 rows × 27 columns</p>\n",
       "</div>"
      ],
      "text/plain": [
       "   last_login  id    username                     email  first_name  \\\n",
       "0  2017-01-27   1  migueldv90  miguel@penpalschools.com           2   \n",
       "1  2014-12-31   2        Zhuf            zhuf@sfusd.edu           2   \n",
       "2  2014-12-31   3   oxheywood    mikki.caplan@gmail.com           2   \n",
       "3  2015-05-24   4    mimobrow                         0           2   \n",
       "4  2017-01-07   5   joetroyen     joe@penpalschools.com           2   \n",
       "\n",
       "   last_name  gender  tier  img_upload  bio   ...     street_line1  \\\n",
       "0          0       1     4           1    9   ...                0   \n",
       "1          0       0     2           0    0   ...                0   \n",
       "2          0       0     2           0    0   ...                0   \n",
       "3          0       0     1           0    0   ...                0   \n",
       "4          0       0     4           1    2   ...                0   \n",
       "\n",
       "   street_line2  zipcode     city     state          country img_def no_email  \\\n",
       "0             0        0   Austin        TX    United States       1        1   \n",
       "1             0        0       SF       CA    United States        0        1   \n",
       "2             0        0  Watford  England   United Kingdom        0        1   \n",
       "3             0        0   Austin       TX    United States        0        0   \n",
       "4             0        0   Austin       TX    United States        1        1   \n",
       "\n",
       "  street1  street2  \n",
       "0       0        0  \n",
       "1       0        0  \n",
       "2       0        0  \n",
       "3       0        0  \n",
       "4       0        0  \n",
       "\n",
       "[5 rows x 27 columns]"
      ]
     },
     "execution_count": 68,
     "metadata": {},
     "output_type": "execute_result"
    }
   ],
   "source": [
    "userComb.head()"
   ]
  },
  {
   "cell_type": "code",
   "execution_count": 69,
   "metadata": {
    "collapsed": false
   },
   "outputs": [
    {
     "data": {
      "text/plain": [
       "array(['last_login', 'id', 'username', 'email', 'first_name', 'last_name',\n",
       "       'gender', 'tier', 'img_upload', 'bio', 'stripe', 'is_staff',\n",
       "       'is_active', 'date_joined', 'dob', 'email_verified', 'img_activity',\n",
       "       'street_line1', 'street_line2', 'zipcode', 'city', 'state',\n",
       "       'country', 'img_def', 'no_email', 'street1', 'street2'], dtype=object)"
      ]
     },
     "execution_count": 69,
     "metadata": {},
     "output_type": "execute_result"
    }
   ],
   "source": [
    "userComb.columns.values"
   ]
  },
  {
   "cell_type": "code",
   "execution_count": 70,
   "metadata": {
    "collapsed": false
   },
   "outputs": [],
   "source": [
    "userComb = userComb[['id','first_name', 'last_name', 'gender', 'tier', 'img_upload', 'bio','stripe', 'is_staff', 'is_active', 'email_verified', 'img_def', 'no_email', 'street1', 'street2']]"
   ]
  },
  {
   "cell_type": "code",
   "execution_count": 71,
   "metadata": {
    "collapsed": false
   },
   "outputs": [
    {
     "data": {
      "text/html": [
       "<div>\n",
       "<table border=\"1\" class=\"dataframe\">\n",
       "  <thead>\n",
       "    <tr style=\"text-align: right;\">\n",
       "      <th></th>\n",
       "      <th>id</th>\n",
       "      <th>first_name</th>\n",
       "      <th>last_name</th>\n",
       "      <th>gender</th>\n",
       "      <th>tier</th>\n",
       "      <th>img_upload</th>\n",
       "      <th>bio</th>\n",
       "      <th>stripe</th>\n",
       "      <th>is_staff</th>\n",
       "      <th>is_active</th>\n",
       "      <th>email_verified</th>\n",
       "      <th>img_def</th>\n",
       "      <th>no_email</th>\n",
       "      <th>street1</th>\n",
       "      <th>street2</th>\n",
       "    </tr>\n",
       "  </thead>\n",
       "  <tbody>\n",
       "    <tr>\n",
       "      <th>0</th>\n",
       "      <td>1</td>\n",
       "      <td>2</td>\n",
       "      <td>0</td>\n",
       "      <td>1</td>\n",
       "      <td>4</td>\n",
       "      <td>1</td>\n",
       "      <td>9</td>\n",
       "      <td>0</td>\n",
       "      <td>1</td>\n",
       "      <td>0</td>\n",
       "      <td>1</td>\n",
       "      <td>1</td>\n",
       "      <td>1</td>\n",
       "      <td>0</td>\n",
       "      <td>0</td>\n",
       "    </tr>\n",
       "    <tr>\n",
       "      <th>1</th>\n",
       "      <td>2</td>\n",
       "      <td>2</td>\n",
       "      <td>0</td>\n",
       "      <td>0</td>\n",
       "      <td>2</td>\n",
       "      <td>0</td>\n",
       "      <td>0</td>\n",
       "      <td>0</td>\n",
       "      <td>1</td>\n",
       "      <td>0</td>\n",
       "      <td>1</td>\n",
       "      <td>0</td>\n",
       "      <td>1</td>\n",
       "      <td>0</td>\n",
       "      <td>0</td>\n",
       "    </tr>\n",
       "    <tr>\n",
       "      <th>2</th>\n",
       "      <td>3</td>\n",
       "      <td>2</td>\n",
       "      <td>0</td>\n",
       "      <td>0</td>\n",
       "      <td>2</td>\n",
       "      <td>0</td>\n",
       "      <td>0</td>\n",
       "      <td>0</td>\n",
       "      <td>1</td>\n",
       "      <td>0</td>\n",
       "      <td>1</td>\n",
       "      <td>0</td>\n",
       "      <td>1</td>\n",
       "      <td>0</td>\n",
       "      <td>0</td>\n",
       "    </tr>\n",
       "    <tr>\n",
       "      <th>3</th>\n",
       "      <td>4</td>\n",
       "      <td>2</td>\n",
       "      <td>0</td>\n",
       "      <td>0</td>\n",
       "      <td>1</td>\n",
       "      <td>0</td>\n",
       "      <td>0</td>\n",
       "      <td>0</td>\n",
       "      <td>0</td>\n",
       "      <td>0</td>\n",
       "      <td>1</td>\n",
       "      <td>0</td>\n",
       "      <td>0</td>\n",
       "      <td>0</td>\n",
       "      <td>0</td>\n",
       "    </tr>\n",
       "    <tr>\n",
       "      <th>4</th>\n",
       "      <td>5</td>\n",
       "      <td>2</td>\n",
       "      <td>0</td>\n",
       "      <td>0</td>\n",
       "      <td>4</td>\n",
       "      <td>1</td>\n",
       "      <td>2</td>\n",
       "      <td>0</td>\n",
       "      <td>1</td>\n",
       "      <td>0</td>\n",
       "      <td>1</td>\n",
       "      <td>1</td>\n",
       "      <td>1</td>\n",
       "      <td>0</td>\n",
       "      <td>0</td>\n",
       "    </tr>\n",
       "  </tbody>\n",
       "</table>\n",
       "</div>"
      ],
      "text/plain": [
       "   id  first_name  last_name  gender  tier  img_upload  bio  stripe  is_staff  \\\n",
       "0   1           2          0       1     4           1    9       0         1   \n",
       "1   2           2          0       0     2           0    0       0         1   \n",
       "2   3           2          0       0     2           0    0       0         1   \n",
       "3   4           2          0       0     1           0    0       0         0   \n",
       "4   5           2          0       0     4           1    2       0         1   \n",
       "\n",
       "   is_active  email_verified  img_def  no_email  street1  street2  \n",
       "0          0               1        1         1        0        0  \n",
       "1          0               1        0         1        0        0  \n",
       "2          0               1        0         1        0        0  \n",
       "3          0               1        0         0        0        0  \n",
       "4          0               1        1         1        0        0  "
      ]
     },
     "execution_count": 71,
     "metadata": {},
     "output_type": "execute_result"
    }
   ],
   "source": [
    "userComb.head()"
   ]
  },
  {
   "cell_type": "code",
   "execution_count": 72,
   "metadata": {
    "collapsed": false
   },
   "outputs": [],
   "source": [
    "userComb = userComb[userComb[\"is_staff\"]!=0]\n",
    "userComb.drop(\"is_staff\", axis=1, inplace = True)\n",
    "userComb = userComb[userComb[\"is_active\"]==0]\n",
    "userComb.drop(\"is_active\", axis=1, inplace = True)\n",
    "userComb=userComb[userComb.tier!=4]\n",
    "userComb=userComb[userComb.bio!=2]\n",
    "#userComb=userComb[userComb.email!=\"porurpenpal@gmail.com\"]"
   ]
  },
  {
   "cell_type": "code",
   "execution_count": 73,
   "metadata": {
    "collapsed": false
   },
   "outputs": [],
   "source": [
    "data = userComb.drop(\"id\", axis=1)"
   ]
  },
  {
   "cell_type": "code",
   "execution_count": 74,
   "metadata": {
    "collapsed": false
   },
   "outputs": [
    {
     "data": {
      "text/html": [
       "<div>\n",
       "<table border=\"1\" class=\"dataframe\">\n",
       "  <thead>\n",
       "    <tr style=\"text-align: right;\">\n",
       "      <th></th>\n",
       "      <th>first_name</th>\n",
       "      <th>last_name</th>\n",
       "      <th>gender</th>\n",
       "      <th>tier</th>\n",
       "      <th>img_upload</th>\n",
       "      <th>bio</th>\n",
       "      <th>stripe</th>\n",
       "      <th>email_verified</th>\n",
       "      <th>img_def</th>\n",
       "      <th>no_email</th>\n",
       "      <th>street1</th>\n",
       "      <th>street2</th>\n",
       "    </tr>\n",
       "  </thead>\n",
       "  <tbody>\n",
       "    <tr>\n",
       "      <th>1</th>\n",
       "      <td>2</td>\n",
       "      <td>0</td>\n",
       "      <td>0</td>\n",
       "      <td>2</td>\n",
       "      <td>0</td>\n",
       "      <td>0</td>\n",
       "      <td>0</td>\n",
       "      <td>1</td>\n",
       "      <td>0</td>\n",
       "      <td>1</td>\n",
       "      <td>0</td>\n",
       "      <td>0</td>\n",
       "    </tr>\n",
       "    <tr>\n",
       "      <th>2</th>\n",
       "      <td>2</td>\n",
       "      <td>0</td>\n",
       "      <td>0</td>\n",
       "      <td>2</td>\n",
       "      <td>0</td>\n",
       "      <td>0</td>\n",
       "      <td>0</td>\n",
       "      <td>1</td>\n",
       "      <td>0</td>\n",
       "      <td>1</td>\n",
       "      <td>0</td>\n",
       "      <td>0</td>\n",
       "    </tr>\n",
       "    <tr>\n",
       "      <th>5</th>\n",
       "      <td>2</td>\n",
       "      <td>0</td>\n",
       "      <td>0</td>\n",
       "      <td>2</td>\n",
       "      <td>0</td>\n",
       "      <td>0</td>\n",
       "      <td>0</td>\n",
       "      <td>1</td>\n",
       "      <td>0</td>\n",
       "      <td>1</td>\n",
       "      <td>0</td>\n",
       "      <td>0</td>\n",
       "    </tr>\n",
       "    <tr>\n",
       "      <th>6</th>\n",
       "      <td>2</td>\n",
       "      <td>0</td>\n",
       "      <td>2</td>\n",
       "      <td>1</td>\n",
       "      <td>0</td>\n",
       "      <td>0</td>\n",
       "      <td>0</td>\n",
       "      <td>1</td>\n",
       "      <td>0</td>\n",
       "      <td>0</td>\n",
       "      <td>0</td>\n",
       "      <td>0</td>\n",
       "    </tr>\n",
       "    <tr>\n",
       "      <th>7</th>\n",
       "      <td>2</td>\n",
       "      <td>0</td>\n",
       "      <td>2</td>\n",
       "      <td>1</td>\n",
       "      <td>0</td>\n",
       "      <td>0</td>\n",
       "      <td>0</td>\n",
       "      <td>1</td>\n",
       "      <td>0</td>\n",
       "      <td>0</td>\n",
       "      <td>0</td>\n",
       "      <td>0</td>\n",
       "    </tr>\n",
       "  </tbody>\n",
       "</table>\n",
       "</div>"
      ],
      "text/plain": [
       "   first_name  last_name  gender  tier  img_upload  bio  stripe  \\\n",
       "1           2          0       0     2           0    0       0   \n",
       "2           2          0       0     2           0    0       0   \n",
       "5           2          0       0     2           0    0       0   \n",
       "6           2          0       2     1           0    0       0   \n",
       "7           2          0       2     1           0    0       0   \n",
       "\n",
       "   email_verified  img_def  no_email  street1  street2  \n",
       "1               1        0         1        0        0  \n",
       "2               1        0         1        0        0  \n",
       "5               1        0         1        0        0  \n",
       "6               1        0         0        0        0  \n",
       "7               1        0         0        0        0  "
      ]
     },
     "execution_count": 74,
     "metadata": {},
     "output_type": "execute_result"
    }
   ],
   "source": [
    "data.head()"
   ]
  },
  {
   "cell_type": "code",
   "execution_count": 75,
   "metadata": {
    "collapsed": false
   },
   "outputs": [
    {
     "data": {
      "text/plain": [
       "array(['first_name', 'last_name', 'gender', 'tier', 'img_upload', 'bio',\n",
       "       'stripe', 'email_verified', 'img_def', 'no_email', 'street1',\n",
       "       'street2'], dtype=object)"
      ]
     },
     "execution_count": 75,
     "metadata": {},
     "output_type": "execute_result"
    }
   ],
   "source": [
    "data.columns.values"
   ]
  },
  {
   "cell_type": "code",
   "execution_count": 76,
   "metadata": {
    "collapsed": false
   },
   "outputs": [
    {
     "data": {
      "text/plain": [
       "61505"
      ]
     },
     "execution_count": 76,
     "metadata": {},
     "output_type": "execute_result"
    }
   ],
   "source": [
    "len(data)"
   ]
  },
  {
   "cell_type": "code",
   "execution_count": 77,
   "metadata": {
    "collapsed": true
   },
   "outputs": [],
   "source": [
    "y_truth = pd.read_csv('userLabel.csv')"
   ]
  },
  {
   "cell_type": "code",
   "execution_count": 78,
   "metadata": {
    "collapsed": false
   },
   "outputs": [],
   "source": [
    "y_truth.drop('Unnamed: 0', axis = 1, inplace = True)"
   ]
  },
  {
   "cell_type": "code",
   "execution_count": 79,
   "metadata": {
    "collapsed": true
   },
   "outputs": [],
   "source": [
    "y_truth=y_truth[y_truth.talkative==1]"
   ]
  },
  {
   "cell_type": "code",
   "execution_count": 80,
   "metadata": {
    "collapsed": false
   },
   "outputs": [
    {
     "data": {
      "text/html": [
       "<div>\n",
       "<table border=\"1\" class=\"dataframe\">\n",
       "  <thead>\n",
       "    <tr style=\"text-align: right;\">\n",
       "      <th></th>\n",
       "      <th>sender</th>\n",
       "      <th>talkative</th>\n",
       "    </tr>\n",
       "  </thead>\n",
       "  <tbody>\n",
       "    <tr>\n",
       "      <th>1</th>\n",
       "      <td>5</td>\n",
       "      <td>1</td>\n",
       "    </tr>\n",
       "    <tr>\n",
       "      <th>2</th>\n",
       "      <td>39</td>\n",
       "      <td>1</td>\n",
       "    </tr>\n",
       "    <tr>\n",
       "      <th>3</th>\n",
       "      <td>41</td>\n",
       "      <td>1</td>\n",
       "    </tr>\n",
       "    <tr>\n",
       "      <th>4</th>\n",
       "      <td>118</td>\n",
       "      <td>1</td>\n",
       "    </tr>\n",
       "    <tr>\n",
       "      <th>5</th>\n",
       "      <td>157</td>\n",
       "      <td>1</td>\n",
       "    </tr>\n",
       "  </tbody>\n",
       "</table>\n",
       "</div>"
      ],
      "text/plain": [
       "   sender  talkative\n",
       "1       5          1\n",
       "2      39          1\n",
       "3      41          1\n",
       "4     118          1\n",
       "5     157          1"
      ]
     },
     "execution_count": 80,
     "metadata": {},
     "output_type": "execute_result"
    }
   ],
   "source": [
    "y_truth.head()"
   ]
  },
  {
   "cell_type": "code",
   "execution_count": 81,
   "metadata": {
    "collapsed": false
   },
   "outputs": [
    {
     "data": {
      "text/plain": [
       "2572"
      ]
     },
     "execution_count": 81,
     "metadata": {},
     "output_type": "execute_result"
    }
   ],
   "source": [
    "len(y_truth)"
   ]
  },
  {
   "cell_type": "code",
   "execution_count": 82,
   "metadata": {
    "collapsed": false
   },
   "outputs": [],
   "source": [
    "labelt=y_truth.sender.tolist()"
   ]
  },
  {
   "cell_type": "code",
   "execution_count": 83,
   "metadata": {
    "collapsed": false
   },
   "outputs": [],
   "source": [
    "userComb['truth']=0\n",
    "for x in labelt:\n",
    "    userComb.ix[userComb.id==x, 'truth'] = 1 "
   ]
  },
  {
   "cell_type": "code",
   "execution_count": 20,
   "metadata": {
    "collapsed": false
   },
   "outputs": [
    {
     "data": {
      "text/html": [
       "<div>\n",
       "<table border=\"1\" class=\"dataframe\">\n",
       "  <thead>\n",
       "    <tr style=\"text-align: right;\">\n",
       "      <th></th>\n",
       "      <th>id</th>\n",
       "      <th>first_name</th>\n",
       "      <th>last_name</th>\n",
       "      <th>gender</th>\n",
       "      <th>tier</th>\n",
       "      <th>img_upload</th>\n",
       "      <th>bio</th>\n",
       "      <th>stripe</th>\n",
       "      <th>email_verified</th>\n",
       "      <th>img_def</th>\n",
       "      <th>no_email</th>\n",
       "      <th>street1</th>\n",
       "      <th>street2</th>\n",
       "      <th>truth</th>\n",
       "    </tr>\n",
       "  </thead>\n",
       "  <tbody>\n",
       "    <tr>\n",
       "      <th>1</th>\n",
       "      <td>2</td>\n",
       "      <td>2</td>\n",
       "      <td>0</td>\n",
       "      <td>0</td>\n",
       "      <td>2</td>\n",
       "      <td>0</td>\n",
       "      <td>0</td>\n",
       "      <td>0</td>\n",
       "      <td>1</td>\n",
       "      <td>0</td>\n",
       "      <td>1</td>\n",
       "      <td>0</td>\n",
       "      <td>0</td>\n",
       "      <td>0</td>\n",
       "    </tr>\n",
       "    <tr>\n",
       "      <th>2</th>\n",
       "      <td>3</td>\n",
       "      <td>2</td>\n",
       "      <td>0</td>\n",
       "      <td>0</td>\n",
       "      <td>2</td>\n",
       "      <td>0</td>\n",
       "      <td>0</td>\n",
       "      <td>0</td>\n",
       "      <td>1</td>\n",
       "      <td>0</td>\n",
       "      <td>1</td>\n",
       "      <td>0</td>\n",
       "      <td>0</td>\n",
       "      <td>0</td>\n",
       "    </tr>\n",
       "    <tr>\n",
       "      <th>5</th>\n",
       "      <td>6</td>\n",
       "      <td>2</td>\n",
       "      <td>0</td>\n",
       "      <td>0</td>\n",
       "      <td>2</td>\n",
       "      <td>0</td>\n",
       "      <td>0</td>\n",
       "      <td>0</td>\n",
       "      <td>1</td>\n",
       "      <td>0</td>\n",
       "      <td>1</td>\n",
       "      <td>0</td>\n",
       "      <td>0</td>\n",
       "      <td>0</td>\n",
       "    </tr>\n",
       "    <tr>\n",
       "      <th>6</th>\n",
       "      <td>7</td>\n",
       "      <td>2</td>\n",
       "      <td>0</td>\n",
       "      <td>2</td>\n",
       "      <td>1</td>\n",
       "      <td>0</td>\n",
       "      <td>0</td>\n",
       "      <td>0</td>\n",
       "      <td>1</td>\n",
       "      <td>0</td>\n",
       "      <td>0</td>\n",
       "      <td>0</td>\n",
       "      <td>0</td>\n",
       "      <td>0</td>\n",
       "    </tr>\n",
       "    <tr>\n",
       "      <th>7</th>\n",
       "      <td>8</td>\n",
       "      <td>2</td>\n",
       "      <td>0</td>\n",
       "      <td>2</td>\n",
       "      <td>1</td>\n",
       "      <td>0</td>\n",
       "      <td>0</td>\n",
       "      <td>0</td>\n",
       "      <td>1</td>\n",
       "      <td>0</td>\n",
       "      <td>0</td>\n",
       "      <td>0</td>\n",
       "      <td>0</td>\n",
       "      <td>0</td>\n",
       "    </tr>\n",
       "  </tbody>\n",
       "</table>\n",
       "</div>"
      ],
      "text/plain": [
       "   id  first_name  last_name  gender  tier  img_upload  bio  stripe  \\\n",
       "1   2           2          0       0     2           0    0       0   \n",
       "2   3           2          0       0     2           0    0       0   \n",
       "5   6           2          0       0     2           0    0       0   \n",
       "6   7           2          0       2     1           0    0       0   \n",
       "7   8           2          0       2     1           0    0       0   \n",
       "\n",
       "   email_verified  img_def  no_email  street1  street2  truth  \n",
       "1               1        0         1        0        0      0  \n",
       "2               1        0         1        0        0      0  \n",
       "5               1        0         1        0        0      0  \n",
       "6               1        0         0        0        0      0  \n",
       "7               1        0         0        0        0      0  "
      ]
     },
     "execution_count": 20,
     "metadata": {},
     "output_type": "execute_result"
    }
   ],
   "source": [
    "userComb.head()"
   ]
  },
  {
   "cell_type": "code",
   "execution_count": 84,
   "metadata": {
    "collapsed": false
   },
   "outputs": [],
   "source": [
    "target = userComb['truth']\n",
    "#features = data.as_matrix()\n",
    "features = data"
   ]
  },
  {
   "cell_type": "code",
   "execution_count": 85,
   "metadata": {
    "collapsed": false
   },
   "outputs": [],
   "source": [
    "X_train, X_test, Y_train, Y_test = train_test_split(features, target, test_size=0.2, random_state=0)"
   ]
  },
  {
   "cell_type": "code",
   "execution_count": 86,
   "metadata": {
    "collapsed": false
   },
   "outputs": [],
   "source": [
    "def run_classifier(classifier_id, X_train, X_test, Y_train, Y_test, axs, fig_row_idx):    \n",
    "    classifiers = (None, SGDClassifier, LogisticRegression,RandomForestClassifier)\n",
    "    classifier_name_list = (None, \"SGDClassifier\", \"Logistic Regression\",\"RandomForestClassifier\")\n",
    "    print(\"\\n################################## Run %s ##################################\\n\" % classifier_name_list[classifier_id])\n",
    "    print(\"# Train:\")\n",
    "  \n",
    "    grid_SGD = [{'loss': ['hinge'], 'penalty': ['l2'], 'alpha': [0.1, 0.01, 0.001], 'class_weight': ['balanced']}]\n",
    "\n",
    "    grid_LR = [{'C': [0.01,1, 10], 'class_weight': ['balanced']}]\n",
    "    \n",
    "    grid_RF = [{'max_depth': [5,10, 15], 'criterion': ['entropy'], 'n_estimators': [50, 100, 250], 'class_weight': ['balanced']}]\n",
    "\n",
    "    grids = (None, grid_SGD, grid_LR,grid_RF)\n",
    "    grid_obj = grids[classifier_id]\n",
    "    cls_obj = classifiers[classifier_id]\n",
    "\n",
    "    best_param = None\n",
    "    best_score = None\n",
    "    best_model = None\n",
    "\n",
    "    # Performing cross validation using parameter grid\n",
    "    for one_param in ParameterGrid(grid_obj):\n",
    "        cls = cls_obj(**one_param)\n",
    "\n",
    "        one_score = cross_val_score(cls, X_train, Y_train, cv=5, scoring='roc_auc')\n",
    "        mscore = one_score.mean()\n",
    "        \n",
    "\n",
    "        if ( best_score is None or best_score < mscore): \n",
    "            best_param = one_param\n",
    "            best_score = mscore\n",
    "            best_model = cls\n",
    "    \n",
    "    print(\"Best param: %s\" % repr(best_param))\n",
    "    \n",
    "    best_model.fit(X_train, Y_train)    \n",
    "    \n",
    "    best_params = get_best_model_params(best_model, X_train, Y_train, classifier_name_list[classifier_id], axs, fig_row_idx)\n",
    "#     print(\"From training set, [best_fpr, best_tpr, best_threshold] = %s\" % str([float(format(x, '.3f')) for x in best_params]))\n",
    "    \n",
    "    result = predict_test(best_model, X_test, Y_test, classifier_name_list[classifier_id], best_params, axs, fig_row_idx)\n",
    "    \n",
    "    result.append(explore_features_importance(best_model, classifier_name_list[classifier_id], X_train))\n",
    "    \n",
    "    return result"
   ]
  },
  {
   "cell_type": "code",
   "execution_count": 87,
   "metadata": {
    "collapsed": false
   },
   "outputs": [],
   "source": [
    "def get_best_model_params(best_model, x_data, y_data, classifier_name, axs, fig_row_idx):\n",
    "    if classifier_name == 'SGDClassifier':\n",
    "        confidence_score = best_model.decision_function(x_data)\n",
    "        fpr, tpr, thresholds = roc_curve(y_data, confidence_score)\n",
    "    else:\n",
    "        probas_ = best_model.predict_proba(x_data) # len(probas_) = size of training set\n",
    "        fpr, tpr, thresholds = roc_curve(y_data, probas_[:, 1]) # pick prob. of yes(encoded as 1)(corresponds to index 1)\n",
    "\n",
    "    \n",
    "    roc_auc = auc(fpr, tpr)\n",
    "    print(\"Area under the ROC curve: %.3f\" % roc_auc)    \n",
    "    plot_roc_curve(fpr, tpr, roc_auc, classifier_name, axs, fig_row_idx, 0)\n",
    "\n",
    "    \n",
    "    # find best params\n",
    "    best_fpr = None\n",
    "    best_tpr = None\n",
    "    best_threshold = None\n",
    "    min_distance = sys.maxsize\n",
    "    for item in zip(fpr, tpr, thresholds):\n",
    "        distance = math.sqrt(math.pow(item[0], 2) + math.pow(item[1] - 1, 2))\n",
    "        if min_distance > distance:\n",
    "            min_distance = distance\n",
    "            best_fpr = item[0]\n",
    "            best_tpr = item[1]\n",
    "            best_threshold = item[2]    \n",
    "    \n",
    "    return [best_fpr, best_tpr, best_threshold]\n",
    "    \n",
    "def predict_test(best_model, x_data, y_data, classifier_name, best_params, axs, fig_row_idx):\n",
    "    print(\"\\n# Evaluate on test set:\")\n",
    "    if classifier_name == 'SGDClassifier':\n",
    "        confidence_score = best_model.decision_function(x_data)\n",
    "        fpr, tpr, thresholds = roc_curve(y_data, confidence_score)\n",
    "    else:\n",
    "        probas_ = best_model.predict_proba(x_data) # len(probas_) = size of testing set\n",
    "        fpr, tpr, thresholds = roc_curve(y_data, probas_[:, 1]) # pick prob. of yes(encoded as 1)(corresponds to index 1)\n",
    "    \n",
    "\n",
    "    roc_auc = auc(fpr, tpr)\n",
    "    print(\"Area under the ROC curve: %.3f\" % roc_auc)    \n",
    "    plot_roc_curve(fpr, tpr, roc_auc, classifier_name, axs, fig_row_idx, 1)\n",
    "    return [roc_auc]\n",
    "    \n",
    "def plot_roc_curve(fpr, tpr, roc_auc, classifier_name, axs, fig_row_idx, fig_col_idx):\n",
    "    axs[fig_row_idx, fig_col_idx].plot(fpr, tpr, label='ROC curve (area = %0.3f)' % roc_auc)\n",
    "    axs[fig_row_idx, fig_col_idx].plot([0, 1], [0, 1], 'k--')\n",
    "    if fig_col_idx == 0:\n",
    "        axs[fig_row_idx, fig_col_idx].set(xlabel=\"False Positive Rate\", ylabel=\"True Positive Rate\", title='Use %s on train set' % classifier_name)\n",
    "    else:\n",
    "        axs[fig_row_idx, fig_col_idx].set(xlabel=\"False Positive Rate\", ylabel=\"True Positive Rate\", title='Use %s on test set' % classifier_name)\n",
    "    axs[fig_row_idx, fig_col_idx].legend(loc=\"lower right\")\n",
    "    \n",
    "def explore_features_importance(best_model, classifier_name, X_train):\n",
    "    NUM_FEATURE_TO_SHOW = 5\n",
    "    feature_names=['first_name','last_name','gender','tier','img_upload','bio','stripe','email_verified','img_def','no_email','street1','street2']\n",
    "    if classifier_name == 'Decision Trees' or classifier_name == \"RandomForestClassifier\":\n",
    "        importance_to_idx = []\n",
    "        feature_importances = best_model.feature_importances_\n",
    "        \n",
    "        for idx in range(len(feature_importances)):\n",
    "            importance_to_idx.append((feature_importances[idx], idx))\n",
    "        sort_importance_to_idx = sorted(importance_to_idx, key=itemgetter(0), reverse=True)\n",
    "                \n",
    "        # return top NUM_FEATURE_TO_SHOW features\n",
    "        return [feature_names[item[1]] for item in sort_importance_to_idx[:NUM_FEATURE_TO_SHOW]]\n",
    "    else: \n",
    "        ranking_to_idx = []\n",
    "    \n",
    "        selector = RFECV(best_model, cv=5)\n",
    "        selector = selector.fit(X_train, Y_train)\n",
    "\n",
    "        rankings = selector.ranking_\n",
    "        for idx in range(len(rankings)):\n",
    "            ranking_to_idx.append((rankings[idx], idx))\n",
    "        sort_ranking_to_idx = sorted(ranking_to_idx, key=itemgetter(0))\n",
    "        \n",
    "        # return top NUM_FEATURE_TO_SHOW features\n",
    "        return [feature_names[item[1]] for item in sort_ranking_to_idx[:NUM_FEATURE_TO_SHOW]]\n"
   ]
  },
  {
   "cell_type": "code",
   "execution_count": 88,
   "metadata": {
    "collapsed": false,
    "scrolled": false
   },
   "outputs": [
    {
     "name": "stdout",
     "output_type": "stream",
     "text": [
      "\n",
      "################################## Run SGDClassifier ##################################\n",
      "\n",
      "# Train:\n",
      "Best param: {'alpha': 0.1, 'class_weight': 'balanced', 'loss': 'hinge', 'penalty': 'l2'}\n",
      "Area under the ROC curve: 0.776\n",
      "\n",
      "# Evaluate on test set:\n",
      "Area under the ROC curve: 0.779\n",
      "\n",
      "################################## Run Logistic Regression ##################################\n",
      "\n",
      "# Train:\n",
      "Best param: {'C': 0.01, 'class_weight': 'balanced'}\n",
      "Area under the ROC curve: 0.772\n",
      "\n",
      "# Evaluate on test set:\n",
      "Area under the ROC curve: 0.775\n",
      "\n",
      "################################## Run RandomForestClassifier ##################################\n",
      "\n",
      "# Train:\n",
      "Best param: {'class_weight': 'balanced', 'criterion': 'entropy', 'max_depth': 5, 'n_estimators': 250}\n",
      "Area under the ROC curve: 0.786\n",
      "\n",
      "# Evaluate on test set:\n",
      "Area under the ROC curve: 0.783\n"
     ]
    },
    {
     "data": {
      "image/png": "[encoded data removed]",
      "text/plain": [
       "<matplotlib.figure.Figure at 0x116e06c18>"
      ]
     },
     "metadata": {},
     "output_type": "display_data"
    }
   ],
   "source": [
    "fig, axs = plt.subplots(nrows=3, ncols=2, figsize=(20,20))\n",
    "result_SGD = run_classifier(1, X_train, X_test, Y_train, Y_test, axs, 0)\n",
    "result_LR = run_classifier(2, X_train, X_test, Y_train, Y_test, axs, 1)\n",
    "result_RF = run_classifier(3, X_train, X_test, Y_train, Y_test, axs, 2)"
   ]
  },
  {
   "cell_type": "code",
   "execution_count": 43,
   "metadata": {
    "collapsed": false
   },
   "outputs": [
    {
     "data": {
      "text/plain": [
       "['first_name',\n",
       " 'gender',\n",
       " 'tier',\n",
       " 'img_upload',\n",
       " 'bio',\n",
       " 'stripe',\n",
       " 'email_verified',\n",
       " 'img_def',\n",
       " 'no_email',\n",
       " 'street1',\n",
       " 'street2',\n",
       " 'last_name']"
      ]
     },
     "execution_count": 43,
     "metadata": {},
     "output_type": "execute_result"
    }
   ],
   "source": [
    "result_SGD[1]"
   ]
  },
  {
   "cell_type": "code",
   "execution_count": 44,
   "metadata": {
    "collapsed": false
   },
   "outputs": [
    {
     "data": {
      "text/plain": [
       "['first_name',\n",
       " 'tier',\n",
       " 'img_upload',\n",
       " 'email_verified',\n",
       " 'no_email',\n",
       " 'img_def',\n",
       " 'gender',\n",
       " 'street1',\n",
       " 'bio',\n",
       " 'stripe',\n",
       " 'street2',\n",
       " 'last_name']"
      ]
     },
     "execution_count": 44,
     "metadata": {},
     "output_type": "execute_result"
    }
   ],
   "source": [
    "result_LR[1]"
   ]
  },
  {
   "cell_type": "code",
   "execution_count": 45,
   "metadata": {
    "collapsed": false
   },
   "outputs": [
    {
     "data": {
      "text/plain": [
       "['gender',\n",
       " 'bio',\n",
       " 'first_name',\n",
       " 'img_def',\n",
       " 'img_upload',\n",
       " 'no_email',\n",
       " 'tier',\n",
       " 'street1',\n",
       " 'email_verified',\n",
       " 'stripe',\n",
       " 'street2',\n",
       " 'last_name']"
      ]
     },
     "execution_count": 45,
     "metadata": {},
     "output_type": "execute_result"
    }
   ],
   "source": [
    "result_RF[1]"
   ]
  },
  {
   "cell_type": "code",
   "execution_count": null,
   "metadata": {
    "collapsed": true
   },
   "outputs": [],
   "source": []
  }
 ],
 "metadata": {
  "kernelspec": {
   "display_name": "Python 3",
   "language": "python",
   "name": "python3"
  },
  "language_info": {
   "codemirror_mode": {
    "name": "ipython",
    "version": 3
   },
   "file_extension": ".py",
   "mimetype": "text/x-python",
   "name": "python",
   "nbconvert_exporter": "python",
   "pygments_lexer": "ipython3",
   "version": "3.6.0"
  }
 },
 "nbformat": 4,
 "nbformat_minor": 2
}
