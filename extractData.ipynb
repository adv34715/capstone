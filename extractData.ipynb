{
 "cells": [
  {
   "cell_type": "code",
   "execution_count": 1,
   "metadata": {
    "collapsed": false
   },
   "outputs": [],
   "source": [
    "import psycopg2"
   ]
  },
  {
   "cell_type": "code",
   "execution_count": 2,
   "metadata": {
    "collapsed": true
   },
   "outputs": [],
   "source": [
    "dbname = \"pps_prd\"\n",
    "user = \"ppsuser\"\n",
    "password = \"jF2RwCuTgbXrKMb]$fxUVCpGD9Aw\"\n",
    "host = \"machine-learning.cq0an2uihaqt.us-east-1.rds.amazonaws.com\""
   ]
  },
  {
   "cell_type": "code",
   "execution_count": 4,
   "metadata": {
    "collapsed": false
   },
   "outputs": [],
   "source": [
    "# exercise\n",
    "conn = psycopg2.connect(dbname = dbname,user = user, password = password, host = host)\n",
    "cursor = conn.cursor()\n",
    "\n",
    "#cursor.execute(\"SELECT EXISTS(SELECT table_name FROM information_schema.tables WHERE table_type='BASE TABLE' AND table_name!~ '^(pg_|sql_)');\")\n",
    "cursor.execute(\"select relname,reltuples from pg_class where relkind='r' and relname = 'auth_group_permissions';\")\n",
    "m=cursor.fetchone()\n",
    "cursor.close()\n",
    "conn.close()\n",
    "#print m[0],m[1]"
   ]
  },
  {
   "cell_type": "code",
   "execution_count": 14,
   "metadata": {
    "collapsed": false
   },
   "outputs": [],
   "source": [
    "def copyToFile():\n",
    "    tableList = []\n",
    "    count = 0\n",
    "    conn = psycopg2.connect(dbname = dbname,user = user, password = password, host = host)\n",
    "    curSelectTable = conn.cursor()\n",
    "    curSelectTable.execute(\"select relname,reltuples from pg_class where relkind='r' and relname !~ '^(pg_|sql_)';\")\n",
    "    for table in curSelectTable.fetchall():\n",
    "        if(table[1]>0):\n",
    "            tName = str(table[0])\n",
    "            #curCheckNull = conn.cursor()\n",
    "            #queryCheckNull = \"SELECT EXISTS(SELECT 1 FROM pg_class WHERE relname=\\'\"+table+\"\\');\"\n",
    "            #curCheckNull.execute(queryCheckNull)\n",
    "            #if curCheckNull.fetchone()[0] == True:\n",
    "            if(\"course\" in tName or \"user\" in tName):\n",
    "                count += 1\n",
    "                tableList.append(tName)\n",
    "                curCopyTo = conn.cursor()\n",
    "                filePath = \"../data/\"+tName+\".csv\" #need change the path\n",
    "                with open(filePath, 'w') as f:\n",
    "                    curCopyTo.copy_to(f,tName)\n",
    "                    print tName +\" is done.\"\n",
    "    conn.close()\n",
    "    print count, \" files are copied.\"\n",
    "    "
   ]
  },
  {
   "cell_type": "code",
   "execution_count": 16,
   "metadata": {
    "collapsed": false,
    "scrolled": true
   },
   "outputs": [
    {
     "name": "stdout",
     "output_type": "stream",
     "text": [
      "course_unit_articles is done.\n",
      "course_resource is done.\n",
      "course_unit_resources is done.\n",
      "course_classroom is done.\n",
      "course_article_questions is done.\n",
      "course_course is done.\n",
      "user_app_address is done.\n",
      "user_app_customuser_user_permissions is done.\n",
      "user_app_customuser is done.\n",
      "user_messages_room_subscribers is done.\n",
      "course_video is done.\n",
      "course_article is done.\n",
      "user_messages_message is done.\n",
      "course_course_units is done.\n",
      "user_messages_room_new_message is done.\n",
      "user_messages_room is done.\n",
      "course_progress is done.\n",
      "course_unit is done.\n",
      "course_match is done.\n",
      "course_subquestionresponse is done.\n",
      "course_match_student_match is done.\n",
      "course_questionresponse_new_subresponse is done.\n",
      "course_question is done.\n",
      "course_questionresponse_new_response is done.\n",
      "course_questionresponse is done.\n",
      "25  files are copied.\n"
     ]
    }
   ],
   "source": [
    "copyToFile()"
   ]
  },
  {
   "cell_type": "code",
   "execution_count": null,
   "metadata": {
    "collapsed": true
   },
   "outputs": [],
   "source": []
  }
 ],
 "metadata": {
  "kernelspec": {
   "display_name": "Python 2",
   "language": "python",
   "name": "python2"
  },
  "language_info": {
   "codemirror_mode": {
    "name": "ipython",
    "version": 2
   },
   "file_extension": ".py",
   "mimetype": "text/x-python",
   "name": "python",
   "nbconvert_exporter": "python",
   "pygments_lexer": "ipython2",
   "version": "2.7.13"
  }
 },
 "nbformat": 4,
 "nbformat_minor": 2
}
